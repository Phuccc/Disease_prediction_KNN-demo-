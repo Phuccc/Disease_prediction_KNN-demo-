{
 "cells": [
  {
   "cell_type": "code",
   "execution_count": 0,
   "id": "c9e651b9",
   "metadata": {},
   "outputs": [],
   "source": [
    "import pandas as pd\n",
    "import numpy as np\n",
    "import matplotlib.pyplot as plt\n",
    "import seaborn as sns\n",
    "%matplotlib inline\n",
    "import seaborn as sns\n",
    "colors = sns.color_palette(\"pastel\")\n",
    "\n",
    "import warnings\n",
    "warnings.filterwarnings('ignore')"
   ]
  },
  {
   "cell_type": "markdown",
   "id": "5d6186db",
   "metadata": {},
   "source": [
    "**Mô tả tập dữ liệu:**\n",
    "\n",
    "Tập dữ liệu Data_Practice.xlsx chứa dữ liệu của 961 bệnh nhân bị u vú.\n",
    "\n",
    "Mỗi bản ghi tương ứng với một bệnh nhân, Bao gồm 6 thuộc tính:\n",
    "1. PatienID: Thuộc tính cho biết mã số của bệnh nhân\n",
    "2. Age: Thuộc tính cho biết tuổi của bệnh nhân.\n",
    "3. Shape: Thuộc tính cho biết hình dạng của khối u, bao gồm 4 giá trị: Round, Oval, Lobular, Irregular\n",
    "4. Margin: Thuộc tính cho biết dạng đường biên của khối u, bao gồm 5 giá trị: Circumscribed, Microlobulated, Obscured, ill-defined, Spiculated\n",
    "5. Density: Thuộc tính cho biết mật độ của khối u, bao gồm 4 giá trị: High, Iso, Low, Fat-containing\n",
    "6. Target: Thuộc tính cho biết khối u là lành tính (0) - hay ác tính (1)\n",
    "---"
   ]
  },
  {
   "cell_type": "code",
   "execution_count": 1,
   "id": "5e393a1a",
   "metadata": {},
   "outputs": [
    {
     "name": "stdout",
     "output_type": "stream",
     "text": [
      "<class 'pandas.core.frame.DataFrame'>\n",
      "RangeIndex: 961 entries, 0 to 960\n",
      "Data columns (total 6 columns):\n",
      " #   Column     Non-Null Count  Dtype  \n",
      "---  ------     --------------  -----  \n",
      " 0   PatientID  961 non-null    object \n",
      " 1   Age        956 non-null    float64\n",
      " 2   Shape      930 non-null    object \n",
      " 3   Margin     913 non-null    object \n",
      " 4   Density    885 non-null    object \n",
      " 5   Target     961 non-null    int64  \n",
      "dtypes: float64(1), int64(1), object(4)\n",
      "memory usage: 45.2+ KB\n"
     ]
    }
   ],
   "source": [
    "# Hiển thị thông tin biến\n",
    "df_practice = pd.read_excel('data/Data_Practice.xlsx')\n",
    "df_practice.info()"
   ]
  },
  {
   "cell_type": "code",
   "execution_count": 2,
   "id": "615ae994",
   "metadata": {},
   "outputs": [
    {
     "data": {
      "text/html": [
       "<div>\n",
       "<style scoped>\n",
       "    .dataframe tbody tr th:only-of-type {\n",
       "        vertical-align: middle;\n",
       "    }\n",
       "\n",
       "    .dataframe tbody tr th {\n",
       "        vertical-align: top;\n",
       "    }\n",
       "\n",
       "    .dataframe thead th {\n",
       "        text-align: right;\n",
       "    }\n",
       "</style>\n",
       "<table border=\"1\" class=\"dataframe\">\n",
       "  <thead>\n",
       "    <tr style=\"text-align: right;\">\n",
       "      <th></th>\n",
       "      <th>PatientID</th>\n",
       "      <th>Age</th>\n",
       "      <th>Shape</th>\n",
       "      <th>Margin</th>\n",
       "      <th>Density</th>\n",
       "      <th>Target</th>\n",
       "    </tr>\n",
       "  </thead>\n",
       "  <tbody>\n",
       "    <tr>\n",
       "      <th>0</th>\n",
       "      <td>P1</td>\n",
       "      <td>67.0</td>\n",
       "      <td>Lobular</td>\n",
       "      <td>Spiculated</td>\n",
       "      <td>Low</td>\n",
       "      <td>1</td>\n",
       "    </tr>\n",
       "    <tr>\n",
       "      <th>1</th>\n",
       "      <td>P2</td>\n",
       "      <td>43.0</td>\n",
       "      <td>Round</td>\n",
       "      <td>Circumscribed</td>\n",
       "      <td>NaN</td>\n",
       "      <td>1</td>\n",
       "    </tr>\n",
       "    <tr>\n",
       "      <th>2</th>\n",
       "      <td>P3</td>\n",
       "      <td>58.0</td>\n",
       "      <td>Irregular</td>\n",
       "      <td>Spiculated</td>\n",
       "      <td>Low</td>\n",
       "      <td>1</td>\n",
       "    </tr>\n",
       "    <tr>\n",
       "      <th>3</th>\n",
       "      <td>P4</td>\n",
       "      <td>28.0</td>\n",
       "      <td>Round</td>\n",
       "      <td>Circumscribed</td>\n",
       "      <td>Low</td>\n",
       "      <td>0</td>\n",
       "    </tr>\n",
       "    <tr>\n",
       "      <th>4</th>\n",
       "      <td>P5</td>\n",
       "      <td>74.0</td>\n",
       "      <td>Round</td>\n",
       "      <td>Spiculated</td>\n",
       "      <td>NaN</td>\n",
       "      <td>1</td>\n",
       "    </tr>\n",
       "  </tbody>\n",
       "</table>\n",
       "</div>"
      ],
      "text/plain": [
       "  PatientID   Age      Shape         Margin Density  Target\n",
       "0        P1  67.0    Lobular     Spiculated     Low       1\n",
       "1        P2  43.0      Round  Circumscribed     NaN       1\n",
       "2        P3  58.0  Irregular     Spiculated     Low       1\n",
       "3        P4  28.0      Round  Circumscribed     Low       0\n",
       "4        P5  74.0      Round     Spiculated     NaN       1"
      ]
     },
     "execution_count": 2,
     "metadata": {},
     "output_type": "execute_result"
    }
   ],
   "source": [
    "# Hiển thị 5 dòng dữ liệu đầu tiên\n",
    "df_practice.head()"
   ]
  },
  {
   "cell_type": "code",
   "execution_count": 3,
   "id": "13b739cf",
   "metadata": {},
   "outputs": [
    {
     "data": {
      "text/html": [
       "<div>\n",
       "<style scoped>\n",
       "    .dataframe tbody tr th:only-of-type {\n",
       "        vertical-align: middle;\n",
       "    }\n",
       "\n",
       "    .dataframe tbody tr th {\n",
       "        vertical-align: top;\n",
       "    }\n",
       "\n",
       "    .dataframe thead th {\n",
       "        text-align: right;\n",
       "    }\n",
       "</style>\n",
       "<table border=\"1\" class=\"dataframe\">\n",
       "  <thead>\n",
       "    <tr style=\"text-align: right;\">\n",
       "      <th></th>\n",
       "      <th>Age</th>\n",
       "      <th>Target</th>\n",
       "    </tr>\n",
       "  </thead>\n",
       "  <tbody>\n",
       "    <tr>\n",
       "      <th>count</th>\n",
       "      <td>956.000000</td>\n",
       "      <td>961.000000</td>\n",
       "    </tr>\n",
       "    <tr>\n",
       "      <th>mean</th>\n",
       "      <td>56.306485</td>\n",
       "      <td>0.463059</td>\n",
       "    </tr>\n",
       "    <tr>\n",
       "      <th>std</th>\n",
       "      <td>30.044212</td>\n",
       "      <td>0.498893</td>\n",
       "    </tr>\n",
       "    <tr>\n",
       "      <th>min</th>\n",
       "      <td>18.000000</td>\n",
       "      <td>0.000000</td>\n",
       "    </tr>\n",
       "    <tr>\n",
       "      <th>25%</th>\n",
       "      <td>45.000000</td>\n",
       "      <td>0.000000</td>\n",
       "    </tr>\n",
       "    <tr>\n",
       "      <th>50%</th>\n",
       "      <td>57.000000</td>\n",
       "      <td>0.000000</td>\n",
       "    </tr>\n",
       "    <tr>\n",
       "      <th>75%</th>\n",
       "      <td>66.000000</td>\n",
       "      <td>1.000000</td>\n",
       "    </tr>\n",
       "    <tr>\n",
       "      <th>max</th>\n",
       "      <td>870.000000</td>\n",
       "      <td>1.000000</td>\n",
       "    </tr>\n",
       "  </tbody>\n",
       "</table>\n",
       "</div>"
      ],
      "text/plain": [
       "              Age      Target\n",
       "count  956.000000  961.000000\n",
       "mean    56.306485    0.463059\n",
       "std     30.044212    0.498893\n",
       "min     18.000000    0.000000\n",
       "25%     45.000000    0.000000\n",
       "50%     57.000000    0.000000\n",
       "75%     66.000000    1.000000\n",
       "max    870.000000    1.000000"
      ]
     },
     "execution_count": 3,
     "metadata": {},
     "output_type": "execute_result"
    }
   ],
   "source": [
    "df_practice.describe()"
   ]
  },
  {
   "cell_type": "markdown",
   "id": "168cb10f",
   "metadata": {},
   "source": [
    "Ta thấy ở Age có độ tuổi 870 (vô lý) nên ta sẽ phải xử lý nó."
   ]
  },
  {
   "cell_type": "code",
   "execution_count": 4,
   "id": "55fd58c1",
   "metadata": {},
   "outputs": [],
   "source": [
    "df_practice.loc[df_practice['Age'] == 870, 'Age'] = 87"
   ]
  },
  {
   "cell_type": "code",
   "execution_count": 5,
   "id": "c1fe4a82",
   "metadata": {},
   "outputs": [
    {
     "data": {
      "text/html": [
       "<div>\n",
       "<style scoped>\n",
       "    .dataframe tbody tr th:only-of-type {\n",
       "        vertical-align: middle;\n",
       "    }\n",
       "\n",
       "    .dataframe tbody tr th {\n",
       "        vertical-align: top;\n",
       "    }\n",
       "\n",
       "    .dataframe thead th {\n",
       "        text-align: right;\n",
       "    }\n",
       "</style>\n",
       "<table border=\"1\" class=\"dataframe\">\n",
       "  <thead>\n",
       "    <tr style=\"text-align: right;\">\n",
       "      <th></th>\n",
       "      <th>Age</th>\n",
       "      <th>Target</th>\n",
       "    </tr>\n",
       "  </thead>\n",
       "  <tbody>\n",
       "    <tr>\n",
       "      <th>count</th>\n",
       "      <td>956.000000</td>\n",
       "      <td>961.000000</td>\n",
       "    </tr>\n",
       "    <tr>\n",
       "      <th>mean</th>\n",
       "      <td>55.487448</td>\n",
       "      <td>0.463059</td>\n",
       "    </tr>\n",
       "    <tr>\n",
       "      <th>std</th>\n",
       "      <td>14.480131</td>\n",
       "      <td>0.498893</td>\n",
       "    </tr>\n",
       "    <tr>\n",
       "      <th>min</th>\n",
       "      <td>18.000000</td>\n",
       "      <td>0.000000</td>\n",
       "    </tr>\n",
       "    <tr>\n",
       "      <th>25%</th>\n",
       "      <td>45.000000</td>\n",
       "      <td>0.000000</td>\n",
       "    </tr>\n",
       "    <tr>\n",
       "      <th>50%</th>\n",
       "      <td>57.000000</td>\n",
       "      <td>0.000000</td>\n",
       "    </tr>\n",
       "    <tr>\n",
       "      <th>75%</th>\n",
       "      <td>66.000000</td>\n",
       "      <td>1.000000</td>\n",
       "    </tr>\n",
       "    <tr>\n",
       "      <th>max</th>\n",
       "      <td>96.000000</td>\n",
       "      <td>1.000000</td>\n",
       "    </tr>\n",
       "  </tbody>\n",
       "</table>\n",
       "</div>"
      ],
      "text/plain": [
       "              Age      Target\n",
       "count  956.000000  961.000000\n",
       "mean    55.487448    0.463059\n",
       "std     14.480131    0.498893\n",
       "min     18.000000    0.000000\n",
       "25%     45.000000    0.000000\n",
       "50%     57.000000    0.000000\n",
       "75%     66.000000    1.000000\n",
       "max     96.000000    1.000000"
      ]
     },
     "execution_count": 5,
     "metadata": {},
     "output_type": "execute_result"
    }
   ],
   "source": [
    "df_practice.describe()"
   ]
  },
  {
   "cell_type": "code",
   "execution_count": 6,
   "id": "95d021ef",
   "metadata": {},
   "outputs": [
    {
     "data": {
      "text/html": [
       "<div>\n",
       "<style scoped>\n",
       "    .dataframe tbody tr th:only-of-type {\n",
       "        vertical-align: middle;\n",
       "    }\n",
       "\n",
       "    .dataframe tbody tr th {\n",
       "        vertical-align: top;\n",
       "    }\n",
       "\n",
       "    .dataframe thead th {\n",
       "        text-align: right;\n",
       "    }\n",
       "</style>\n",
       "<table border=\"1\" class=\"dataframe\">\n",
       "  <thead>\n",
       "    <tr style=\"text-align: right;\">\n",
       "      <th></th>\n",
       "      <th>PatientID</th>\n",
       "      <th>Shape</th>\n",
       "      <th>Margin</th>\n",
       "      <th>Density</th>\n",
       "    </tr>\n",
       "  </thead>\n",
       "  <tbody>\n",
       "    <tr>\n",
       "      <th>count</th>\n",
       "      <td>961</td>\n",
       "      <td>930</td>\n",
       "      <td>913</td>\n",
       "      <td>885</td>\n",
       "    </tr>\n",
       "    <tr>\n",
       "      <th>unique</th>\n",
       "      <td>961</td>\n",
       "      <td>5</td>\n",
       "      <td>6</td>\n",
       "      <td>5</td>\n",
       "    </tr>\n",
       "    <tr>\n",
       "      <th>top</th>\n",
       "      <td>P1</td>\n",
       "      <td>Irregular</td>\n",
       "      <td>Circumscribed</td>\n",
       "      <td>Low</td>\n",
       "    </tr>\n",
       "    <tr>\n",
       "      <th>freq</th>\n",
       "      <td>1</td>\n",
       "      <td>399</td>\n",
       "      <td>357</td>\n",
       "      <td>797</td>\n",
       "    </tr>\n",
       "  </tbody>\n",
       "</table>\n",
       "</div>"
      ],
      "text/plain": [
       "       PatientID      Shape         Margin Density\n",
       "count        961        930            913     885\n",
       "unique       961          5              6       5\n",
       "top           P1  Irregular  Circumscribed     Low\n",
       "freq           1        399            357     797"
      ]
     },
     "execution_count": 6,
     "metadata": {},
     "output_type": "execute_result"
    }
   ],
   "source": [
    "df_practice.describe(include='O')"
   ]
  },
  {
   "cell_type": "markdown",
   "id": "47db31f9",
   "metadata": {},
   "source": [
    "### 1.Thuộc tính Age - Target\n",
    "---"
   ]
  },
  {
   "cell_type": "code",
   "execution_count": 7,
   "id": "fe6b48e7",
   "metadata": {},
   "outputs": [
    {
     "data": {
      "image/png": "[encoded data removed]",
      "text/plain": [
       "<Figure size 640x480 with 1 Axes>"
      ]
     },
     "metadata": {},
     "output_type": "display_data"
    }
   ],
   "source": [
    "plt.hist(df_practice.Age,bins=96)\n",
    "plt.grid(True)\n",
    "plt.show()"
   ]
  },
  {
   "cell_type": "code",
   "execution_count": 8,
   "id": "9dc5931b",
   "metadata": {},
   "outputs": [
    {
     "data": {
      "image/png": "[encoded data removed]",
      "text/plain": [
       "<Figure size 600x300 with 2 Axes>"
      ]
     },
     "metadata": {},
     "output_type": "display_data"
    }
   ],
   "source": [
    "#Thống kê liệu tuổi hành khách u lành|ác tính theo tuổi\n",
    "g = sns.FacetGrid(df_practice, col='Target')\n",
    "g.map(plt.hist, 'Age', bins=40, )\n",
    "plt.show()"
   ]
  },
  {
   "cell_type": "markdown",
   "id": "4a587230",
   "metadata": {},
   "source": [
    "**Sau khi kiểm tra, ta thấy :**\n",
    "- Độ tuổi từ **18 - 40** tuổi tỉ lệ mắc u ác tính rất thấp gần như là ko có.\n",
    "- Độ tuổi từ **40 - 58** tuổi tỉ lệ mắc u ác tính bắt đầu tăng cao dần.\n",
    "- Độ tuổi từ **58** tuổi trở đi tỉ lệ u ác tính tăng cao nhiều.\n"
   ]
  },
  {
   "cell_type": "markdown",
   "id": "0dd1bb68",
   "metadata": {},
   "source": [
    "### 2.Thuộc tính Shape - Target\n",
    "---"
   ]
  },
  {
   "cell_type": "code",
   "execution_count": 14,
   "id": "46a3a39e",
   "metadata": {},
   "outputs": [
    {
     "data": {
      "text/plain": [
       "Shape\n",
       "Irregular    400\n",
       "Round        224\n",
       "Oval         211\n",
       "Lobular       95\n",
       "Name: count, dtype: int64"
      ]
     },
     "execution_count": 14,
     "metadata": {},
     "output_type": "execute_result"
    }
   ],
   "source": [
    "sl_Shape = df_practice['Shape'].value_counts()\n",
    "sl_Shape"
   ]
  },
  {
   "cell_type": "markdown",
   "id": "c5563a43",
   "metadata": {},
   "source": [
    "Ta thấy ở thuộc tính Shape có 1 chỉ số 'IRREGULAR' trùng với tên 1 chỉ số nhưng bị viết hoa hết nên ta sẽ thay đổi nó."
   ]
  },
  {
   "cell_type": "code",
   "execution_count": 15,
   "id": "cd3b5125",
   "metadata": {},
   "outputs": [],
   "source": [
    "df_practice.loc[(df_practice['Shape']=='IRREGULAR'), 'Shape'] = 'Irregular'"
   ]
  },
  {
   "cell_type": "code",
   "execution_count": 16,
   "id": "ebd55fa2",
   "metadata": {},
   "outputs": [
    {
     "data": {
      "text/plain": [
       "Shape\n",
       "Irregular    400\n",
       "Round        224\n",
       "Oval         211\n",
       "Lobular       95\n",
       "Name: count, dtype: int64"
      ]
     },
     "execution_count": 16,
     "metadata": {},
     "output_type": "execute_result"
    }
   ],
   "source": [
    "sl_Shape_02 = df_practice['Shape'].value_counts()\n",
    "sl_Shape_02"
   ]
  },
  {
   "cell_type": "code",
   "execution_count": 17,
   "id": "e9e1cd1d",
   "metadata": {},
   "outputs": [
    {
     "data": {
      "image/png": "[encoded data removed]",
      "text/plain": [
       "<Figure size 1000x500 with 1 Axes>"
      ]
     },
     "metadata": {},
     "output_type": "display_data"
    }
   ],
   "source": [
    "plt.figure(figsize=(10,5))\n",
    "plt.subplot(1,2,2)\n",
    "plt.pie(sl_Shape_02.values, labels=['Irregular','Round','Oval','Lobular'],\n",
    "       autopct='%.2f%%',\n",
    "       colors=colors)\n",
    "plt.show()"
   ]
  },
  {
   "cell_type": "code",
   "execution_count": 18,
   "id": "c1479539",
   "metadata": {},
   "outputs": [
    {
     "data": {
      "text/html": [
       "<div>\n",
       "<style scoped>\n",
       "    .dataframe tbody tr th:only-of-type {\n",
       "        vertical-align: middle;\n",
       "    }\n",
       "\n",
       "    .dataframe tbody tr th {\n",
       "        vertical-align: top;\n",
       "    }\n",
       "\n",
       "    .dataframe thead th {\n",
       "        text-align: right;\n",
       "    }\n",
       "</style>\n",
       "<table border=\"1\" class=\"dataframe\">\n",
       "  <thead>\n",
       "    <tr style=\"text-align: right;\">\n",
       "      <th></th>\n",
       "      <th>Shape</th>\n",
       "      <th>Target</th>\n",
       "    </tr>\n",
       "  </thead>\n",
       "  <tbody>\n",
       "    <tr>\n",
       "      <th>0</th>\n",
       "      <td>Irregular</td>\n",
       "      <td>0.787500</td>\n",
       "    </tr>\n",
       "    <tr>\n",
       "      <th>1</th>\n",
       "      <td>Lobular</td>\n",
       "      <td>0.473684</td>\n",
       "    </tr>\n",
       "    <tr>\n",
       "      <th>3</th>\n",
       "      <td>Round</td>\n",
       "      <td>0.169643</td>\n",
       "    </tr>\n",
       "    <tr>\n",
       "      <th>2</th>\n",
       "      <td>Oval</td>\n",
       "      <td>0.165877</td>\n",
       "    </tr>\n",
       "  </tbody>\n",
       "</table>\n",
       "</div>"
      ],
      "text/plain": [
       "       Shape    Target\n",
       "0  Irregular  0.787500\n",
       "1    Lobular  0.473684\n",
       "3      Round  0.169643\n",
       "2       Oval  0.165877"
      ]
     },
     "execution_count": 18,
     "metadata": {},
     "output_type": "execute_result"
    }
   ],
   "source": [
    "df_practice[['Shape', 'Target']].groupby(['Shape'], as_index=False).mean().sort_values(by='Target', ascending=False)"
   ]
  },
  {
   "cell_type": "markdown",
   "id": "0767ec83",
   "metadata": {},
   "source": [
    "**Sau khi kiểm tra, ta thấy :**\n",
    "- Chỉ số 'Irregular' xuất hiện nhiều nhất, bên cạnh ấy ảnh hưởng tới khả năng bị u ác tính rất cao lên tới 78%.\n",
    "- Chỉ số 'Lobular' xuất hiện ít nhất nhưng lại có tỉ lệ u ác tính tương đối cao lên tới gần 50%."
   ]
  },
  {
   "cell_type": "markdown",
   "id": "adef000c",
   "metadata": {},
   "source": [
    "### 3.Thuộc tính Margin - Target\n",
    "---"
   ]
  },
  {
   "cell_type": "code",
   "execution_count": 19,
   "id": "f680fa52",
   "metadata": {},
   "outputs": [
    {
     "data": {
      "text/plain": [
       "Margin\n",
       "Circumscribed     357\n",
       "ill-defined       280\n",
       "Spiculated        135\n",
       "Obscured          116\n",
       "Microlobulated     24\n",
       "SPICULATED          1\n",
       "Name: count, dtype: int64"
      ]
     },
     "execution_count": 19,
     "metadata": {},
     "output_type": "execute_result"
    }
   ],
   "source": [
    "sl_Margin = df_practice['Margin'].value_counts()\n",
    "sl_Margin"
   ]
  },
  {
   "cell_type": "markdown",
   "id": "4c16d4da",
   "metadata": {},
   "source": [
    "Ta thấy ở thuộc tính Margin có 1 chỉ số 'SPICULATED' trùng với tên 1 chỉ số nhưng bị viết hoa hết nên ta sẽ thay đổi nó."
   ]
  },
  {
   "cell_type": "code",
   "execution_count": 20,
   "id": "0a592a3b",
   "metadata": {},
   "outputs": [],
   "source": [
    "df_practice.loc[(df_practice['Margin']=='SPICULATED'), 'Margin'] = 'Spiculated'"
   ]
  },
  {
   "cell_type": "code",
   "execution_count": 21,
   "id": "7bca1064",
   "metadata": {},
   "outputs": [
    {
     "data": {
      "text/plain": [
       "Margin\n",
       "Circumscribed     357\n",
       "ill-defined       280\n",
       "Spiculated        136\n",
       "Obscured          116\n",
       "Microlobulated     24\n",
       "Name: count, dtype: int64"
      ]
     },
     "execution_count": 21,
     "metadata": {},
     "output_type": "execute_result"
    }
   ],
   "source": [
    "sl_Margin_02 = df_practice['Margin'].value_counts()\n",
    "sl_Margin_02"
   ]
  },
  {
   "cell_type": "code",
   "execution_count": 22,
   "id": "952f81ae",
   "metadata": {},
   "outputs": [
    {
     "data": {
      "image/png": "[encoded data removed]",
      "text/plain": [
       "<Figure size 1000x500 with 1 Axes>"
      ]
     },
     "metadata": {},
     "output_type": "display_data"
    }
   ],
   "source": [
    "plt.figure(figsize=(10,5))\n",
    "plt.subplot(1,2,2)\n",
    "plt.pie(sl_Margin_02.values, labels=['Circumscribed','ill-defined','Spiculated','Obscured','Microlobulated'],\n",
    "       autopct='%.2f%%',\n",
    "       colors=colors)\n",
    "plt.show()"
   ]
  },
  {
   "cell_type": "code",
   "execution_count": 23,
   "id": "1dc4b83f",
   "metadata": {},
   "outputs": [
    {
     "data": {
      "text/html": [
       "<div>\n",
       "<style scoped>\n",
       "    .dataframe tbody tr th:only-of-type {\n",
       "        vertical-align: middle;\n",
       "    }\n",
       "\n",
       "    .dataframe tbody tr th {\n",
       "        vertical-align: top;\n",
       "    }\n",
       "\n",
       "    .dataframe thead th {\n",
       "        text-align: right;\n",
       "    }\n",
       "</style>\n",
       "<table border=\"1\" class=\"dataframe\">\n",
       "  <thead>\n",
       "    <tr style=\"text-align: right;\">\n",
       "      <th></th>\n",
       "      <th>Margin</th>\n",
       "      <th>Target</th>\n",
       "    </tr>\n",
       "  </thead>\n",
       "  <tbody>\n",
       "    <tr>\n",
       "      <th>3</th>\n",
       "      <td>Spiculated</td>\n",
       "      <td>0.838235</td>\n",
       "    </tr>\n",
       "    <tr>\n",
       "      <th>4</th>\n",
       "      <td>ill-defined</td>\n",
       "      <td>0.682143</td>\n",
       "    </tr>\n",
       "    <tr>\n",
       "      <th>2</th>\n",
       "      <td>Obscured</td>\n",
       "      <td>0.629310</td>\n",
       "    </tr>\n",
       "    <tr>\n",
       "      <th>1</th>\n",
       "      <td>Microlobulated</td>\n",
       "      <td>0.625000</td>\n",
       "    </tr>\n",
       "    <tr>\n",
       "      <th>0</th>\n",
       "      <td>Circumscribed</td>\n",
       "      <td>0.114846</td>\n",
       "    </tr>\n",
       "  </tbody>\n",
       "</table>\n",
       "</div>"
      ],
      "text/plain": [
       "           Margin    Target\n",
       "3      Spiculated  0.838235\n",
       "4     ill-defined  0.682143\n",
       "2        Obscured  0.629310\n",
       "1  Microlobulated  0.625000\n",
       "0   Circumscribed  0.114846"
      ]
     },
     "execution_count": 23,
     "metadata": {},
     "output_type": "execute_result"
    }
   ],
   "source": [
    "tl_Margin = df_practice[['Margin', 'Target']].groupby(['Margin'], as_index=False).mean().sort_values(by='Target', ascending=False)\n",
    "tl_Margin"
   ]
  },
  {
   "cell_type": "markdown",
   "id": "3d16c0d0",
   "metadata": {},
   "source": [
    "**Sau khi kiểm tra, ta thấy rằng:** \n",
    "- Chỉ số 'Spiculated' tỉ lệ u ác tính rất cao.\n",
    "- Chỉ số 'ill-defined' số lượng nhiều và có tỉ lệ u ác tính cao.\n",
    "- Chỉ số 'Obscured' số lượng ít có tỉ lệ u ác tính khá cao.\n",
    "- Chỉ số 'Microlobulated' số lượng rất ít nhưng tỉ lệ u ác tính khá cao.\n",
    "- Chỉ số 'Circumscribed' số lượng nhiều nhưng tỉ lệ u ác tính rất thấp."
   ]
  },
  {
   "cell_type": "markdown",
   "id": "f7dedf79",
   "metadata": {},
   "source": [
    "### 4.Thuộc tính Density - Target\n",
    "---"
   ]
  },
  {
   "cell_type": "code",
   "execution_count": 24,
   "id": "52c06596",
   "metadata": {},
   "outputs": [
    {
     "data": {
      "text/plain": [
       "Density\n",
       "Low               797\n",
       "Iso                59\n",
       "High               16\n",
       "Fat-containing     12\n",
       "LOW                 1\n",
       "Name: count, dtype: int64"
      ]
     },
     "execution_count": 24,
     "metadata": {},
     "output_type": "execute_result"
    }
   ],
   "source": [
    "sl_Density = df_practice['Density'].value_counts()\n",
    "sl_Density"
   ]
  },
  {
   "cell_type": "markdown",
   "id": "c29f5b39",
   "metadata": {},
   "source": [
    "Ta thấy ở thuộc tính Density có 1 chỉ số 'LOW' trùng với tên 1 chỉ số nhưng bị viết hoa hết nên ta sẽ thay đổi nó."
   ]
  },
  {
   "cell_type": "code",
   "execution_count": 25,
   "id": "55958f31",
   "metadata": {},
   "outputs": [],
   "source": [
    "df_practice.loc[(df_practice['Density']=='LOW'), 'Density'] = 'Low'"
   ]
  },
  {
   "cell_type": "code",
   "execution_count": 26,
   "id": "4a41cd2a",
   "metadata": {},
   "outputs": [
    {
     "data": {
      "text/plain": [
       "Density\n",
       "Low               798\n",
       "Iso                59\n",
       "High               16\n",
       "Fat-containing     12\n",
       "Name: count, dtype: int64"
      ]
     },
     "execution_count": 26,
     "metadata": {},
     "output_type": "execute_result"
    }
   ],
   "source": [
    "sl_Density_02 = df_practice['Density'].value_counts()\n",
    "sl_Density_02"
   ]
  },
  {
   "cell_type": "code",
   "execution_count": 27,
   "id": "a20b08da",
   "metadata": {},
   "outputs": [
    {
     "data": {
      "image/png": "[encoded data removed]",
      "text/plain": [
       "<Figure size 1500x1000 with 1 Axes>"
      ]
     },
     "metadata": {},
     "output_type": "display_data"
    }
   ],
   "source": [
    "plt.figure(figsize=(15,10))\n",
    "plt.subplot(1,2,2)\n",
    "plt.pie(sl_Density_02.values, labels=['Low','Iso','High','Fat-containing'],\n",
    "       autopct='%.2f%%',\n",
    "       colors=colors)\n",
    "plt.show()"
   ]
  },
  {
   "cell_type": "code",
   "execution_count": 28,
   "id": "b3fe2ddb",
   "metadata": {},
   "outputs": [
    {
     "data": {
      "text/html": [
       "<div>\n",
       "<style scoped>\n",
       "    .dataframe tbody tr th:only-of-type {\n",
       "        vertical-align: middle;\n",
       "    }\n",
       "\n",
       "    .dataframe tbody tr th {\n",
       "        vertical-align: top;\n",
       "    }\n",
       "\n",
       "    .dataframe thead th {\n",
       "        text-align: right;\n",
       "    }\n",
       "</style>\n",
       "<table border=\"1\" class=\"dataframe\">\n",
       "  <thead>\n",
       "    <tr style=\"text-align: right;\">\n",
       "      <th></th>\n",
       "      <th>Density</th>\n",
       "      <th>Target</th>\n",
       "    </tr>\n",
       "  </thead>\n",
       "  <tbody>\n",
       "    <tr>\n",
       "      <th>3</th>\n",
       "      <td>Low</td>\n",
       "      <td>0.492481</td>\n",
       "    </tr>\n",
       "    <tr>\n",
       "      <th>1</th>\n",
       "      <td>High</td>\n",
       "      <td>0.437500</td>\n",
       "    </tr>\n",
       "    <tr>\n",
       "      <th>0</th>\n",
       "      <td>Fat-containing</td>\n",
       "      <td>0.416667</td>\n",
       "    </tr>\n",
       "    <tr>\n",
       "      <th>2</th>\n",
       "      <td>Iso</td>\n",
       "      <td>0.305085</td>\n",
       "    </tr>\n",
       "  </tbody>\n",
       "</table>\n",
       "</div>"
      ],
      "text/plain": [
       "          Density    Target\n",
       "3             Low  0.492481\n",
       "1            High  0.437500\n",
       "0  Fat-containing  0.416667\n",
       "2             Iso  0.305085"
      ]
     },
     "execution_count": 28,
     "metadata": {},
     "output_type": "execute_result"
    }
   ],
   "source": [
    "df_practice[['Density', 'Target']].groupby(['Density'], as_index=False).mean().sort_values(by='Target', ascending=False)"
   ]
  },
  {
   "cell_type": "markdown",
   "id": "5216e602",
   "metadata": {},
   "source": [
    "**Sau khi kiểm tra, ta thấy :** \n",
    "- Chỉ số 'Low' thì tỉ lệ mắc u ác tính cũng gần nửa số bệnh nhân.\n",
    "- Chỉ số 'High', 'Fat-containing' số lượng ít nhưng tỉ lệ u ác tính khá cao.\n",
    "- Chỉ số 'Iso' số lượng ít và tỉ lệ u ác tính cũng khá thấp."
   ]
  },
  {
   "cell_type": "markdown",
   "id": "53b6ac25",
   "metadata": {},
   "source": [
    "## XỬ LÝ DỮ LIỆU MISSING\n",
    "---"
   ]
  },
  {
   "cell_type": "code",
   "execution_count": 29,
   "id": "499678a2",
   "metadata": {},
   "outputs": [
    {
     "name": "stdout",
     "output_type": "stream",
     "text": [
      "<class 'pandas.core.frame.DataFrame'>\n",
      "RangeIndex: 961 entries, 0 to 960\n",
      "Data columns (total 5 columns):\n",
      " #   Column   Non-Null Count  Dtype  \n",
      "---  ------   --------------  -----  \n",
      " 0   Age      956 non-null    float64\n",
      " 1   Shape    930 non-null    object \n",
      " 2   Margin   913 non-null    object \n",
      " 3   Density  885 non-null    object \n",
      " 4   Target   961 non-null    int64  \n",
      "dtypes: float64(1), int64(1), object(3)\n",
      "memory usage: 37.7+ KB\n"
     ]
    }
   ],
   "source": [
    "# Loại bỏ thuộc tính không quan trọng\n",
    "df_data = df_practice.drop(['PatientID'], axis=1)\n",
    "df_data.info()"
   ]
  },
  {
   "cell_type": "code",
   "execution_count": 30,
   "id": "e408cbaa",
   "metadata": {},
   "outputs": [],
   "source": [
    "def missing_values(df):\n",
    "        mis_val = df.isnull().sum()\n",
    "        mis_val_percent = 100 * df.isnull().sum() / len(df)\n",
    "        mis_val_table = pd.concat([mis_val, mis_val_percent], axis=1)\n",
    "        mis_val_table_ren_columns = mis_val_table.rename(\n",
    "        columns = {0 : 'Số giá trị Missing', 1 : 'Tỷ lệ % missing'})\n",
    "        mis_val_table_ren_columns = mis_val_table_ren_columns[\n",
    "            mis_val_table_ren_columns.iloc[:,1] != 0].sort_values(\n",
    "        'Tỷ lệ % missing', ascending=False).round(2)\n",
    "        print (\"File dữ liệu bao gồm có: \" + str(df.shape[1]) + \" cột.\\n\"      \n",
    "            \"Có \" + str(mis_val_table_ren_columns.shape[0]) +\n",
    "              \" cột chứa missing values.\")\n",
    "        return mis_val_table_ren_columns"
   ]
  },
  {
   "cell_type": "code",
   "execution_count": 31,
   "id": "bca84e4c",
   "metadata": {},
   "outputs": [
    {
     "name": "stdout",
     "output_type": "stream",
     "text": [
      "File dữ liệu bao gồm có: 5 cột.\n",
      "Có 4 cột chứa missing values.\n"
     ]
    },
    {
     "data": {
      "text/html": [
       "<div>\n",
       "<style scoped>\n",
       "    .dataframe tbody tr th:only-of-type {\n",
       "        vertical-align: middle;\n",
       "    }\n",
       "\n",
       "    .dataframe tbody tr th {\n",
       "        vertical-align: top;\n",
       "    }\n",
       "\n",
       "    .dataframe thead th {\n",
       "        text-align: right;\n",
       "    }\n",
       "</style>\n",
       "<table border=\"1\" class=\"dataframe\">\n",
       "  <thead>\n",
       "    <tr style=\"text-align: right;\">\n",
       "      <th></th>\n",
       "      <th>Số giá trị Missing</th>\n",
       "      <th>Tỷ lệ % missing</th>\n",
       "    </tr>\n",
       "  </thead>\n",
       "  <tbody>\n",
       "    <tr>\n",
       "      <th>Density</th>\n",
       "      <td>76</td>\n",
       "      <td>7.91</td>\n",
       "    </tr>\n",
       "    <tr>\n",
       "      <th>Margin</th>\n",
       "      <td>48</td>\n",
       "      <td>4.99</td>\n",
       "    </tr>\n",
       "    <tr>\n",
       "      <th>Shape</th>\n",
       "      <td>31</td>\n",
       "      <td>3.23</td>\n",
       "    </tr>\n",
       "    <tr>\n",
       "      <th>Age</th>\n",
       "      <td>5</td>\n",
       "      <td>0.52</td>\n",
       "    </tr>\n",
       "  </tbody>\n",
       "</table>\n",
       "</div>"
      ],
      "text/plain": [
       "         Số giá trị Missing  Tỷ lệ % missing\n",
       "Density                  76             7.91\n",
       "Margin                   48             4.99\n",
       "Shape                    31             3.23\n",
       "Age                       5             0.52"
      ]
     },
     "execution_count": 31,
     "metadata": {},
     "output_type": "execute_result"
    }
   ],
   "source": [
    "missing_values(df_data)"
   ]
  },
  {
   "cell_type": "markdown",
   "id": "1510c4fe",
   "metadata": {},
   "source": [
    "### 1. Xử lí thuộc tính 'Age'\n",
    "---"
   ]
  },
  {
   "cell_type": "code",
   "execution_count": 32,
   "id": "8ad1adf9",
   "metadata": {},
   "outputs": [
    {
     "data": {
      "text/html": [
       "<div>\n",
       "<style scoped>\n",
       "    .dataframe tbody tr th:only-of-type {\n",
       "        vertical-align: middle;\n",
       "    }\n",
       "\n",
       "    .dataframe tbody tr th {\n",
       "        vertical-align: top;\n",
       "    }\n",
       "\n",
       "    .dataframe thead th {\n",
       "        text-align: right;\n",
       "    }\n",
       "</style>\n",
       "<table border=\"1\" class=\"dataframe\">\n",
       "  <thead>\n",
       "    <tr style=\"text-align: right;\">\n",
       "      <th></th>\n",
       "      <th>Age</th>\n",
       "      <th>Shape</th>\n",
       "      <th>Margin</th>\n",
       "      <th>Density</th>\n",
       "      <th>Target</th>\n",
       "    </tr>\n",
       "  </thead>\n",
       "  <tbody>\n",
       "    <tr>\n",
       "      <th>0</th>\n",
       "      <td>NaN</td>\n",
       "      <td>Irregular</td>\n",
       "      <td>Spiculated</td>\n",
       "      <td>Low</td>\n",
       "      <td>1</td>\n",
       "    </tr>\n",
       "    <tr>\n",
       "      <th>1</th>\n",
       "      <td>NaN</td>\n",
       "      <td>Irregular</td>\n",
       "      <td>ill-defined</td>\n",
       "      <td>Low</td>\n",
       "      <td>1</td>\n",
       "    </tr>\n",
       "    <tr>\n",
       "      <th>2</th>\n",
       "      <td>NaN</td>\n",
       "      <td>Lobular</td>\n",
       "      <td>Obscured</td>\n",
       "      <td>Low</td>\n",
       "      <td>1</td>\n",
       "    </tr>\n",
       "    <tr>\n",
       "      <th>3</th>\n",
       "      <td>NaN</td>\n",
       "      <td>Irregular</td>\n",
       "      <td>ill-defined</td>\n",
       "      <td>Low</td>\n",
       "      <td>1</td>\n",
       "    </tr>\n",
       "    <tr>\n",
       "      <th>4</th>\n",
       "      <td>NaN</td>\n",
       "      <td>Irregular</td>\n",
       "      <td>Obscured</td>\n",
       "      <td>Low</td>\n",
       "      <td>1</td>\n",
       "    </tr>\n",
       "  </tbody>\n",
       "</table>\n",
       "</div>"
      ],
      "text/plain": [
       "   Age      Shape       Margin Density  Target\n",
       "0  NaN  Irregular   Spiculated     Low       1\n",
       "1  NaN  Irregular  ill-defined     Low       1\n",
       "2  NaN    Lobular     Obscured     Low       1\n",
       "3  NaN  Irregular  ill-defined     Low       1\n",
       "4  NaN  Irregular     Obscured     Low       1"
      ]
     },
     "execution_count": 32,
     "metadata": {},
     "output_type": "execute_result"
    }
   ],
   "source": [
    "# Các bản ghi missing của \"Age\"\n",
    "df_data.loc[df_data[['Age']].isnull().any(axis=1)].reset_index(drop=True)"
   ]
  },
  {
   "cell_type": "code",
   "execution_count": 33,
   "id": "d48fd549",
   "metadata": {},
   "outputs": [
    {
     "data": {
      "text/plain": [
       "Age\n",
       "67.0    23\n",
       "71.0    19\n",
       "66.0    19\n",
       "59.0    17\n",
       "65.0    16\n",
       "Name: count, dtype: int64"
      ]
     },
     "execution_count": 33,
     "metadata": {},
     "output_type": "execute_result"
    }
   ],
   "source": [
    "age_count = df_data[df_data['Target']==1]['Age'].value_counts().nlargest(5)\n",
    "age_count"
   ]
  },
  {
   "cell_type": "markdown",
   "id": "569a2dd2",
   "metadata": {},
   "source": [
    "- Vì 5 bệnh nhân này đều mắc u ác tính mà dữ liệu trên ta phân tích và bảng thống kê ==> 67 tuổi có tỉ lệ mắc u ác tính cao nhất."
   ]
  },
  {
   "cell_type": "markdown",
   "id": "32d28b24",
   "metadata": {},
   "source": [
    "**Thực hiện**\n",
    "- Ta sẽ thay các giá trị 'null' thành '67' tuổi"
   ]
  },
  {
   "cell_type": "code",
   "execution_count": 34,
   "id": "002c5a68",
   "metadata": {},
   "outputs": [
    {
     "name": "stdout",
     "output_type": "stream",
     "text": [
      "<class 'pandas.core.frame.DataFrame'>\n",
      "RangeIndex: 961 entries, 0 to 960\n",
      "Data columns (total 5 columns):\n",
      " #   Column   Non-Null Count  Dtype  \n",
      "---  ------   --------------  -----  \n",
      " 0   Age      961 non-null    float64\n",
      " 1   Shape    930 non-null    object \n",
      " 2   Margin   913 non-null    object \n",
      " 3   Density  885 non-null    object \n",
      " 4   Target   961 non-null    int64  \n",
      "dtypes: float64(1), int64(1), object(3)\n",
      "memory usage: 37.7+ KB\n"
     ]
    }
   ],
   "source": [
    "df_data['Age'].fillna(67, inplace=True)\n",
    "df_data.info()"
   ]
  },
  {
   "cell_type": "markdown",
   "id": "eea9aa93",
   "metadata": {},
   "source": [
    "### 2. Xử lí thuộc tính 'Shape'\n",
    "---"
   ]
  },
  {
   "cell_type": "code",
   "execution_count": 35,
   "id": "2c8db7a8",
   "metadata": {},
   "outputs": [
    {
     "data": {
      "text/html": [
       "<div>\n",
       "<style scoped>\n",
       "    .dataframe tbody tr th:only-of-type {\n",
       "        vertical-align: middle;\n",
       "    }\n",
       "\n",
       "    .dataframe tbody tr th {\n",
       "        vertical-align: top;\n",
       "    }\n",
       "\n",
       "    .dataframe thead th {\n",
       "        text-align: right;\n",
       "    }\n",
       "</style>\n",
       "<table border=\"1\" class=\"dataframe\">\n",
       "  <thead>\n",
       "    <tr style=\"text-align: right;\">\n",
       "      <th></th>\n",
       "      <th>Age</th>\n",
       "      <th>Shape</th>\n",
       "      <th>Margin</th>\n",
       "      <th>Density</th>\n",
       "      <th>Target</th>\n",
       "    </tr>\n",
       "  </thead>\n",
       "  <tbody>\n",
       "    <tr>\n",
       "      <th>0</th>\n",
       "      <td>34.0</td>\n",
       "      <td>NaN</td>\n",
       "      <td>NaN</td>\n",
       "      <td>Fat-containing</td>\n",
       "      <td>0</td>\n",
       "    </tr>\n",
       "    <tr>\n",
       "      <th>1</th>\n",
       "      <td>40.0</td>\n",
       "      <td>NaN</td>\n",
       "      <td>Obscured</td>\n",
       "      <td>Fat-containing</td>\n",
       "      <td>1</td>\n",
       "    </tr>\n",
       "    <tr>\n",
       "      <th>2</th>\n",
       "      <td>41.0</td>\n",
       "      <td>NaN</td>\n",
       "      <td>NaN</td>\n",
       "      <td>Low</td>\n",
       "      <td>0</td>\n",
       "    </tr>\n",
       "    <tr>\n",
       "      <th>3</th>\n",
       "      <td>42.0</td>\n",
       "      <td>NaN</td>\n",
       "      <td>NaN</td>\n",
       "      <td>Fat-containing</td>\n",
       "      <td>0</td>\n",
       "    </tr>\n",
       "    <tr>\n",
       "      <th>4</th>\n",
       "      <td>44.0</td>\n",
       "      <td>NaN</td>\n",
       "      <td>ill-defined</td>\n",
       "      <td>Low</td>\n",
       "      <td>0</td>\n",
       "    </tr>\n",
       "    <tr>\n",
       "      <th>5</th>\n",
       "      <td>46.0</td>\n",
       "      <td>NaN</td>\n",
       "      <td>Spiculated</td>\n",
       "      <td>NaN</td>\n",
       "      <td>1</td>\n",
       "    </tr>\n",
       "    <tr>\n",
       "      <th>6</th>\n",
       "      <td>48.0</td>\n",
       "      <td>NaN</td>\n",
       "      <td>ill-defined</td>\n",
       "      <td>NaN</td>\n",
       "      <td>1</td>\n",
       "    </tr>\n",
       "    <tr>\n",
       "      <th>7</th>\n",
       "      <td>49.0</td>\n",
       "      <td>NaN</td>\n",
       "      <td>Obscured</td>\n",
       "      <td>Low</td>\n",
       "      <td>0</td>\n",
       "    </tr>\n",
       "    <tr>\n",
       "      <th>8</th>\n",
       "      <td>50.0</td>\n",
       "      <td>NaN</td>\n",
       "      <td>NaN</td>\n",
       "      <td>Low</td>\n",
       "      <td>1</td>\n",
       "    </tr>\n",
       "    <tr>\n",
       "      <th>9</th>\n",
       "      <td>51.0</td>\n",
       "      <td>NaN</td>\n",
       "      <td>NaN</td>\n",
       "      <td>Low</td>\n",
       "      <td>0</td>\n",
       "    </tr>\n",
       "    <tr>\n",
       "      <th>10</th>\n",
       "      <td>51.0</td>\n",
       "      <td>NaN</td>\n",
       "      <td>ill-defined</td>\n",
       "      <td>Low</td>\n",
       "      <td>0</td>\n",
       "    </tr>\n",
       "    <tr>\n",
       "      <th>11</th>\n",
       "      <td>52.0</td>\n",
       "      <td>NaN</td>\n",
       "      <td>ill-defined</td>\n",
       "      <td>NaN</td>\n",
       "      <td>0</td>\n",
       "    </tr>\n",
       "    <tr>\n",
       "      <th>12</th>\n",
       "      <td>53.0</td>\n",
       "      <td>NaN</td>\n",
       "      <td>ill-defined</td>\n",
       "      <td>Low</td>\n",
       "      <td>0</td>\n",
       "    </tr>\n",
       "    <tr>\n",
       "      <th>13</th>\n",
       "      <td>53.0</td>\n",
       "      <td>NaN</td>\n",
       "      <td>Spiculated</td>\n",
       "      <td>Low</td>\n",
       "      <td>1</td>\n",
       "    </tr>\n",
       "    <tr>\n",
       "      <th>14</th>\n",
       "      <td>55.0</td>\n",
       "      <td>NaN</td>\n",
       "      <td>NaN</td>\n",
       "      <td>Low</td>\n",
       "      <td>0</td>\n",
       "    </tr>\n",
       "    <tr>\n",
       "      <th>15</th>\n",
       "      <td>57.0</td>\n",
       "      <td>NaN</td>\n",
       "      <td>ill-defined</td>\n",
       "      <td>High</td>\n",
       "      <td>0</td>\n",
       "    </tr>\n",
       "    <tr>\n",
       "      <th>16</th>\n",
       "      <td>58.0</td>\n",
       "      <td>NaN</td>\n",
       "      <td>ill-defined</td>\n",
       "      <td>Low</td>\n",
       "      <td>1</td>\n",
       "    </tr>\n",
       "    <tr>\n",
       "      <th>17</th>\n",
       "      <td>59.0</td>\n",
       "      <td>NaN</td>\n",
       "      <td>ill-defined</td>\n",
       "      <td>Low</td>\n",
       "      <td>0</td>\n",
       "    </tr>\n",
       "    <tr>\n",
       "      <th>18</th>\n",
       "      <td>60.0</td>\n",
       "      <td>NaN</td>\n",
       "      <td>Obscured</td>\n",
       "      <td>High</td>\n",
       "      <td>0</td>\n",
       "    </tr>\n",
       "    <tr>\n",
       "      <th>19</th>\n",
       "      <td>60.0</td>\n",
       "      <td>NaN</td>\n",
       "      <td>ill-defined</td>\n",
       "      <td>Low</td>\n",
       "      <td>0</td>\n",
       "    </tr>\n",
       "    <tr>\n",
       "      <th>20</th>\n",
       "      <td>60.0</td>\n",
       "      <td>NaN</td>\n",
       "      <td>Spiculated</td>\n",
       "      <td>High</td>\n",
       "      <td>1</td>\n",
       "    </tr>\n",
       "    <tr>\n",
       "      <th>21</th>\n",
       "      <td>63.0</td>\n",
       "      <td>NaN</td>\n",
       "      <td>ill-defined</td>\n",
       "      <td>Low</td>\n",
       "      <td>1</td>\n",
       "    </tr>\n",
       "    <tr>\n",
       "      <th>22</th>\n",
       "      <td>64.0</td>\n",
       "      <td>NaN</td>\n",
       "      <td>NaN</td>\n",
       "      <td>Low</td>\n",
       "      <td>0</td>\n",
       "    </tr>\n",
       "    <tr>\n",
       "      <th>23</th>\n",
       "      <td>65.0</td>\n",
       "      <td>NaN</td>\n",
       "      <td>Circumscribed</td>\n",
       "      <td>Iso</td>\n",
       "      <td>0</td>\n",
       "    </tr>\n",
       "    <tr>\n",
       "      <th>24</th>\n",
       "      <td>66.0</td>\n",
       "      <td>NaN</td>\n",
       "      <td>NaN</td>\n",
       "      <td>High</td>\n",
       "      <td>1</td>\n",
       "    </tr>\n",
       "    <tr>\n",
       "      <th>25</th>\n",
       "      <td>68.0</td>\n",
       "      <td>NaN</td>\n",
       "      <td>NaN</td>\n",
       "      <td>Low</td>\n",
       "      <td>0</td>\n",
       "    </tr>\n",
       "    <tr>\n",
       "      <th>26</th>\n",
       "      <td>70.0</td>\n",
       "      <td>NaN</td>\n",
       "      <td>ill-defined</td>\n",
       "      <td>NaN</td>\n",
       "      <td>1</td>\n",
       "    </tr>\n",
       "    <tr>\n",
       "      <th>27</th>\n",
       "      <td>70.0</td>\n",
       "      <td>NaN</td>\n",
       "      <td>Spiculated</td>\n",
       "      <td>Low</td>\n",
       "      <td>1</td>\n",
       "    </tr>\n",
       "    <tr>\n",
       "      <th>28</th>\n",
       "      <td>70.0</td>\n",
       "      <td>NaN</td>\n",
       "      <td>NaN</td>\n",
       "      <td>Low</td>\n",
       "      <td>0</td>\n",
       "    </tr>\n",
       "    <tr>\n",
       "      <th>29</th>\n",
       "      <td>76.0</td>\n",
       "      <td>NaN</td>\n",
       "      <td>Obscured</td>\n",
       "      <td>Iso</td>\n",
       "      <td>0</td>\n",
       "    </tr>\n",
       "    <tr>\n",
       "      <th>30</th>\n",
       "      <td>82.0</td>\n",
       "      <td>NaN</td>\n",
       "      <td>Spiculated</td>\n",
       "      <td>Low</td>\n",
       "      <td>1</td>\n",
       "    </tr>\n",
       "  </tbody>\n",
       "</table>\n",
       "</div>"
      ],
      "text/plain": [
       "     Age Shape         Margin         Density  Target\n",
       "0   34.0   NaN            NaN  Fat-containing       0\n",
       "1   40.0   NaN       Obscured  Fat-containing       1\n",
       "2   41.0   NaN            NaN             Low       0\n",
       "3   42.0   NaN            NaN  Fat-containing       0\n",
       "4   44.0   NaN    ill-defined             Low       0\n",
       "5   46.0   NaN     Spiculated             NaN       1\n",
       "6   48.0   NaN    ill-defined             NaN       1\n",
       "7   49.0   NaN       Obscured             Low       0\n",
       "8   50.0   NaN            NaN             Low       1\n",
       "9   51.0   NaN            NaN             Low       0\n",
       "10  51.0   NaN    ill-defined             Low       0\n",
       "11  52.0   NaN    ill-defined             NaN       0\n",
       "12  53.0   NaN    ill-defined             Low       0\n",
       "13  53.0   NaN     Spiculated             Low       1\n",
       "14  55.0   NaN            NaN             Low       0\n",
       "15  57.0   NaN    ill-defined            High       0\n",
       "16  58.0   NaN    ill-defined             Low       1\n",
       "17  59.0   NaN    ill-defined             Low       0\n",
       "18  60.0   NaN       Obscured            High       0\n",
       "19  60.0   NaN    ill-defined             Low       0\n",
       "20  60.0   NaN     Spiculated            High       1\n",
       "21  63.0   NaN    ill-defined             Low       1\n",
       "22  64.0   NaN            NaN             Low       0\n",
       "23  65.0   NaN  Circumscribed             Iso       0\n",
       "24  66.0   NaN            NaN            High       1\n",
       "25  68.0   NaN            NaN             Low       0\n",
       "26  70.0   NaN    ill-defined             NaN       1\n",
       "27  70.0   NaN     Spiculated             Low       1\n",
       "28  70.0   NaN            NaN             Low       0\n",
       "29  76.0   NaN       Obscured             Iso       0\n",
       "30  82.0   NaN     Spiculated             Low       1"
      ]
     },
     "execution_count": 35,
     "metadata": {},
     "output_type": "execute_result"
    }
   ],
   "source": [
    "# Hiển thị dữ liệu missing của Shape\n",
    "df_data[df_data[['Shape']].isnull().any(axis=1)].sort_values(by='Age').reset_index(drop=True)"
   ]
  },
  {
   "cell_type": "code",
   "execution_count": 36,
   "id": "183f4f60",
   "metadata": {},
   "outputs": [
    {
     "data": {
      "text/plain": [
       "Shape\n",
       "Round        186\n",
       "Oval         176\n",
       "Irregular     85\n",
       "Lobular       50\n",
       "Name: count, dtype: int64"
      ]
     },
     "execution_count": 36,
     "metadata": {},
     "output_type": "execute_result"
    }
   ],
   "source": [
    "Shape_count_00 = df_data[df_data['Target']==0]['Shape'].value_counts()\n",
    "Shape_count_00"
   ]
  },
  {
   "cell_type": "markdown",
   "id": "8fa0053c",
   "metadata": {},
   "source": [
    "- Ta thấy rằng Target = 0 thì có 'Round' và 'Oval' là chiếm nhiều nhất nên ta sẽ phải chia làm 2 nhóm."
   ]
  },
  {
   "cell_type": "code",
   "execution_count": 37,
   "id": "cdfdba72",
   "metadata": {},
   "outputs": [
    {
     "data": {
      "text/plain": [
       "Shape\n",
       "Irregular    315\n",
       "Lobular       45\n",
       "Round         38\n",
       "Oval          35\n",
       "Name: count, dtype: int64"
      ]
     },
     "execution_count": 37,
     "metadata": {},
     "output_type": "execute_result"
    }
   ],
   "source": [
    "Shape_count_01 = df_data[df_data['Target']==1]['Shape'].value_counts()\n",
    "Shape_count_01"
   ]
  },
  {
   "cell_type": "markdown",
   "id": "fddf35ba",
   "metadata": {},
   "source": [
    "- Ta thấy rằng Target = 1 thì có 'Irregular' là chiếm nhiều nhất nên ta sẽ thay thế 'null' thành 'Irregular'"
   ]
  },
  {
   "cell_type": "code",
   "execution_count": 38,
   "id": "b05fe909",
   "metadata": {},
   "outputs": [],
   "source": [
    "# Lọc Target = 0 có 'Round' và 'Oval' \n",
    "df_Shape_00 = df_data[(df_data['Target']==0) & ((df_data['Shape']== 'Round') | (df_data['Shape']== 'Oval'))]"
   ]
  },
  {
   "cell_type": "code",
   "execution_count": 39,
   "id": "60c963c7",
   "metadata": {},
   "outputs": [
    {
     "data": {
      "image/png": "[encoded data removed]",
      "text/plain": [
       "<Figure size 600x300 with 2 Axes>"
      ]
     },
     "metadata": {},
     "output_type": "display_data"
    }
   ],
   "source": [
    "g = sns.FacetGrid(df_Shape_00, col='Shape')\n",
    "g.map(plt.hist, 'Age', bins=80,)\n",
    "plt.show()"
   ]
  },
  {
   "cell_type": "code",
   "execution_count": 40,
   "id": "9ed87467",
   "metadata": {},
   "outputs": [
    {
     "data": {
      "text/plain": [
       "Age\n",
       "59.0    10\n",
       "57.0    10\n",
       "45.0     9\n",
       "47.0     7\n",
       "41.0     7\n",
       "56.0     7\n",
       "49.0     6\n",
       "Name: count, dtype: int64"
      ]
     },
     "execution_count": 40,
     "metadata": {},
     "output_type": "execute_result"
    }
   ],
   "source": [
    "Oval_count = df_Shape_00[df_Shape_00['Shape']=='Oval']['Age'].value_counts().nlargest(7)\n",
    "Oval_count"
   ]
  },
  {
   "cell_type": "markdown",
   "id": "ed7d21bf",
   "metadata": {},
   "source": [
    "- Ta thấy từ 56 tuổi trở đi là Oval tăng cao"
   ]
  },
  {
   "cell_type": "markdown",
   "id": "7c35709e",
   "metadata": {},
   "source": [
    "**Thực hiện**\n",
    "- Thuộc tính 'Shape' có giá trị null từ độ tuổi 34 - 82\n",
    "- Ở thuộc tính 'Target' = 1, ta sẽ thay thế 'Shape' = 'Irregular' vì có số lượng cao hơn hẳn so với 3 chỉ số còn lại\n",
    "- Ở thuộc tính 'Target' = 0, ta sẽ chia làm 2 nhóm cụ thể vì chiếm đa số:\n",
    "    - Nhóm 1 : Shape = Round (độ tuổi từ 34 - 55)\n",
    "    - Nhóm 2 : Shape = Oval (độ tuổi từ 56 - 82)"
   ]
  },
  {
   "cell_type": "code",
   "execution_count": 41,
   "id": "5bbeeabf",
   "metadata": {},
   "outputs": [],
   "source": [
    "# Xử lý missing ở Target = 1\n",
    "df_data.loc[(df_data['Target']==1) & (df_data['Shape'].isnull()), 'Shape'] = 'Irregular'"
   ]
  },
  {
   "cell_type": "code",
   "execution_count": 42,
   "id": "1e4ec155",
   "metadata": {},
   "outputs": [],
   "source": [
    "# Xử lý missing ở Target = 0\n",
    "df_data.loc[(df_data['Target']==0) & (df_data['Shape'].isnull()) & (df_data['Age'] >= 34) & (df_data['Age'] <=55),\n",
    "            'Shape'] = 'Round'\n",
    "\n",
    "df_data.loc[(df_data['Target']==0) & (df_data['Shape'].isnull()) & (df_data['Age'] >= 56) & (df_data['Age'] <=82),\n",
    "            'Shape'] = 'Oval'"
   ]
  },
  {
   "cell_type": "code",
   "execution_count": 43,
   "id": "c983aea4",
   "metadata": {},
   "outputs": [
    {
     "name": "stdout",
     "output_type": "stream",
     "text": [
      "<class 'pandas.core.frame.DataFrame'>\n",
      "RangeIndex: 961 entries, 0 to 960\n",
      "Data columns (total 5 columns):\n",
      " #   Column   Non-Null Count  Dtype  \n",
      "---  ------   --------------  -----  \n",
      " 0   Age      961 non-null    float64\n",
      " 1   Shape    961 non-null    object \n",
      " 2   Margin   913 non-null    object \n",
      " 3   Density  885 non-null    object \n",
      " 4   Target   961 non-null    int64  \n",
      "dtypes: float64(1), int64(1), object(3)\n",
      "memory usage: 37.7+ KB\n"
     ]
    }
   ],
   "source": [
    "df_data.info()"
   ]
  },
  {
   "cell_type": "markdown",
   "id": "8abcd785",
   "metadata": {},
   "source": [
    "### 3. Xử lí thuộc tính 'Margin'\n",
    "---"
   ]
  },
  {
   "cell_type": "code",
   "execution_count": 44,
   "id": "da4bf8a9",
   "metadata": {},
   "outputs": [
    {
     "data": {
      "text/html": [
       "<div>\n",
       "<style scoped>\n",
       "    .dataframe tbody tr th:only-of-type {\n",
       "        vertical-align: middle;\n",
       "    }\n",
       "\n",
       "    .dataframe tbody tr th {\n",
       "        vertical-align: top;\n",
       "    }\n",
       "\n",
       "    .dataframe thead th {\n",
       "        text-align: right;\n",
       "    }\n",
       "</style>\n",
       "<table border=\"1\" class=\"dataframe\">\n",
       "  <thead>\n",
       "    <tr style=\"text-align: right;\">\n",
       "      <th></th>\n",
       "      <th>Age</th>\n",
       "      <th>Shape</th>\n",
       "      <th>Margin</th>\n",
       "      <th>Density</th>\n",
       "      <th>Target</th>\n",
       "    </tr>\n",
       "  </thead>\n",
       "  <tbody>\n",
       "    <tr>\n",
       "      <th>0</th>\n",
       "      <td>65.0</td>\n",
       "      <td>Round</td>\n",
       "      <td>NaN</td>\n",
       "      <td>Low</td>\n",
       "      <td>0</td>\n",
       "    </tr>\n",
       "    <tr>\n",
       "      <th>1</th>\n",
       "      <td>70.0</td>\n",
       "      <td>Oval</td>\n",
       "      <td>NaN</td>\n",
       "      <td>Low</td>\n",
       "      <td>0</td>\n",
       "    </tr>\n",
       "    <tr>\n",
       "      <th>2</th>\n",
       "      <td>42.0</td>\n",
       "      <td>Round</td>\n",
       "      <td>NaN</td>\n",
       "      <td>Low</td>\n",
       "      <td>0</td>\n",
       "    </tr>\n",
       "    <tr>\n",
       "      <th>3</th>\n",
       "      <td>64.0</td>\n",
       "      <td>Round</td>\n",
       "      <td>NaN</td>\n",
       "      <td>Low</td>\n",
       "      <td>0</td>\n",
       "    </tr>\n",
       "    <tr>\n",
       "      <th>4</th>\n",
       "      <td>40.0</td>\n",
       "      <td>Round</td>\n",
       "      <td>NaN</td>\n",
       "      <td>NaN</td>\n",
       "      <td>0</td>\n",
       "    </tr>\n",
       "    <tr>\n",
       "      <th>5</th>\n",
       "      <td>66.0</td>\n",
       "      <td>Irregular</td>\n",
       "      <td>NaN</td>\n",
       "      <td>High</td>\n",
       "      <td>1</td>\n",
       "    </tr>\n",
       "    <tr>\n",
       "      <th>6</th>\n",
       "      <td>43.0</td>\n",
       "      <td>Round</td>\n",
       "      <td>NaN</td>\n",
       "      <td>NaN</td>\n",
       "      <td>0</td>\n",
       "    </tr>\n",
       "    <tr>\n",
       "      <th>7</th>\n",
       "      <td>63.0</td>\n",
       "      <td>Lobular</td>\n",
       "      <td>NaN</td>\n",
       "      <td>Low</td>\n",
       "      <td>0</td>\n",
       "    </tr>\n",
       "    <tr>\n",
       "      <th>8</th>\n",
       "      <td>77.0</td>\n",
       "      <td>Lobular</td>\n",
       "      <td>NaN</td>\n",
       "      <td>NaN</td>\n",
       "      <td>0</td>\n",
       "    </tr>\n",
       "    <tr>\n",
       "      <th>9</th>\n",
       "      <td>42.0</td>\n",
       "      <td>Round</td>\n",
       "      <td>NaN</td>\n",
       "      <td>Fat-containing</td>\n",
       "      <td>0</td>\n",
       "    </tr>\n",
       "    <tr>\n",
       "      <th>10</th>\n",
       "      <td>59.0</td>\n",
       "      <td>Oval</td>\n",
       "      <td>NaN</td>\n",
       "      <td>NaN</td>\n",
       "      <td>1</td>\n",
       "    </tr>\n",
       "    <tr>\n",
       "      <th>11</th>\n",
       "      <td>51.0</td>\n",
       "      <td>Irregular</td>\n",
       "      <td>NaN</td>\n",
       "      <td>NaN</td>\n",
       "      <td>1</td>\n",
       "    </tr>\n",
       "    <tr>\n",
       "      <th>12</th>\n",
       "      <td>33.0</td>\n",
       "      <td>Round</td>\n",
       "      <td>NaN</td>\n",
       "      <td>NaN</td>\n",
       "      <td>0</td>\n",
       "    </tr>\n",
       "    <tr>\n",
       "      <th>13</th>\n",
       "      <td>36.0</td>\n",
       "      <td>Round</td>\n",
       "      <td>NaN</td>\n",
       "      <td>NaN</td>\n",
       "      <td>0</td>\n",
       "    </tr>\n",
       "    <tr>\n",
       "      <th>14</th>\n",
       "      <td>60.0</td>\n",
       "      <td>Round</td>\n",
       "      <td>NaN</td>\n",
       "      <td>Low</td>\n",
       "      <td>0</td>\n",
       "    </tr>\n",
       "    <tr>\n",
       "      <th>15</th>\n",
       "      <td>59.0</td>\n",
       "      <td>Oval</td>\n",
       "      <td>NaN</td>\n",
       "      <td>NaN</td>\n",
       "      <td>0</td>\n",
       "    </tr>\n",
       "    <tr>\n",
       "      <th>16</th>\n",
       "      <td>65.0</td>\n",
       "      <td>Oval</td>\n",
       "      <td>NaN</td>\n",
       "      <td>NaN</td>\n",
       "      <td>0</td>\n",
       "    </tr>\n",
       "    <tr>\n",
       "      <th>17</th>\n",
       "      <td>29.0</td>\n",
       "      <td>Oval</td>\n",
       "      <td>NaN</td>\n",
       "      <td>NaN</td>\n",
       "      <td>0</td>\n",
       "    </tr>\n",
       "    <tr>\n",
       "      <th>18</th>\n",
       "      <td>60.0</td>\n",
       "      <td>Oval</td>\n",
       "      <td>NaN</td>\n",
       "      <td>NaN</td>\n",
       "      <td>0</td>\n",
       "    </tr>\n",
       "    <tr>\n",
       "      <th>19</th>\n",
       "      <td>63.0</td>\n",
       "      <td>Irregular</td>\n",
       "      <td>NaN</td>\n",
       "      <td>Low</td>\n",
       "      <td>1</td>\n",
       "    </tr>\n",
       "    <tr>\n",
       "      <th>20</th>\n",
       "      <td>55.0</td>\n",
       "      <td>Oval</td>\n",
       "      <td>NaN</td>\n",
       "      <td>NaN</td>\n",
       "      <td>1</td>\n",
       "    </tr>\n",
       "    <tr>\n",
       "      <th>21</th>\n",
       "      <td>51.0</td>\n",
       "      <td>Round</td>\n",
       "      <td>NaN</td>\n",
       "      <td>Low</td>\n",
       "      <td>0</td>\n",
       "    </tr>\n",
       "    <tr>\n",
       "      <th>22</th>\n",
       "      <td>58.0</td>\n",
       "      <td>Irregular</td>\n",
       "      <td>NaN</td>\n",
       "      <td>Low</td>\n",
       "      <td>1</td>\n",
       "    </tr>\n",
       "    <tr>\n",
       "      <th>23</th>\n",
       "      <td>67.0</td>\n",
       "      <td>Round</td>\n",
       "      <td>NaN</td>\n",
       "      <td>Low</td>\n",
       "      <td>0</td>\n",
       "    </tr>\n",
       "    <tr>\n",
       "      <th>24</th>\n",
       "      <td>55.0</td>\n",
       "      <td>Round</td>\n",
       "      <td>NaN</td>\n",
       "      <td>High</td>\n",
       "      <td>0</td>\n",
       "    </tr>\n",
       "    <tr>\n",
       "      <th>25</th>\n",
       "      <td>79.0</td>\n",
       "      <td>Round</td>\n",
       "      <td>NaN</td>\n",
       "      <td>Low</td>\n",
       "      <td>1</td>\n",
       "    </tr>\n",
       "    <tr>\n",
       "      <th>26</th>\n",
       "      <td>71.0</td>\n",
       "      <td>Round</td>\n",
       "      <td>NaN</td>\n",
       "      <td>Low</td>\n",
       "      <td>0</td>\n",
       "    </tr>\n",
       "    <tr>\n",
       "      <th>27</th>\n",
       "      <td>54.0</td>\n",
       "      <td>Round</td>\n",
       "      <td>NaN</td>\n",
       "      <td>NaN</td>\n",
       "      <td>0</td>\n",
       "    </tr>\n",
       "    <tr>\n",
       "      <th>28</th>\n",
       "      <td>71.0</td>\n",
       "      <td>Oval</td>\n",
       "      <td>NaN</td>\n",
       "      <td>Low</td>\n",
       "      <td>1</td>\n",
       "    </tr>\n",
       "    <tr>\n",
       "      <th>29</th>\n",
       "      <td>46.0</td>\n",
       "      <td>Lobular</td>\n",
       "      <td>NaN</td>\n",
       "      <td>Low</td>\n",
       "      <td>0</td>\n",
       "    </tr>\n",
       "    <tr>\n",
       "      <th>30</th>\n",
       "      <td>46.0</td>\n",
       "      <td>Round</td>\n",
       "      <td>NaN</td>\n",
       "      <td>NaN</td>\n",
       "      <td>0</td>\n",
       "    </tr>\n",
       "    <tr>\n",
       "      <th>31</th>\n",
       "      <td>43.0</td>\n",
       "      <td>Round</td>\n",
       "      <td>NaN</td>\n",
       "      <td>NaN</td>\n",
       "      <td>0</td>\n",
       "    </tr>\n",
       "    <tr>\n",
       "      <th>32</th>\n",
       "      <td>64.0</td>\n",
       "      <td>Oval</td>\n",
       "      <td>NaN</td>\n",
       "      <td>Low</td>\n",
       "      <td>0</td>\n",
       "    </tr>\n",
       "    <tr>\n",
       "      <th>33</th>\n",
       "      <td>34.0</td>\n",
       "      <td>Round</td>\n",
       "      <td>NaN</td>\n",
       "      <td>Fat-containing</td>\n",
       "      <td>0</td>\n",
       "    </tr>\n",
       "    <tr>\n",
       "      <th>34</th>\n",
       "      <td>57.0</td>\n",
       "      <td>Lobular</td>\n",
       "      <td>NaN</td>\n",
       "      <td>Low</td>\n",
       "      <td>0</td>\n",
       "    </tr>\n",
       "    <tr>\n",
       "      <th>35</th>\n",
       "      <td>40.0</td>\n",
       "      <td>Oval</td>\n",
       "      <td>NaN</td>\n",
       "      <td>Low</td>\n",
       "      <td>0</td>\n",
       "    </tr>\n",
       "    <tr>\n",
       "      <th>36</th>\n",
       "      <td>41.0</td>\n",
       "      <td>Round</td>\n",
       "      <td>NaN</td>\n",
       "      <td>Low</td>\n",
       "      <td>0</td>\n",
       "    </tr>\n",
       "    <tr>\n",
       "      <th>37</th>\n",
       "      <td>68.0</td>\n",
       "      <td>Oval</td>\n",
       "      <td>NaN</td>\n",
       "      <td>Low</td>\n",
       "      <td>0</td>\n",
       "    </tr>\n",
       "    <tr>\n",
       "      <th>38</th>\n",
       "      <td>62.0</td>\n",
       "      <td>Irregular</td>\n",
       "      <td>NaN</td>\n",
       "      <td>Low</td>\n",
       "      <td>1</td>\n",
       "    </tr>\n",
       "    <tr>\n",
       "      <th>39</th>\n",
       "      <td>65.0</td>\n",
       "      <td>Round</td>\n",
       "      <td>NaN</td>\n",
       "      <td>Low</td>\n",
       "      <td>1</td>\n",
       "    </tr>\n",
       "    <tr>\n",
       "      <th>40</th>\n",
       "      <td>55.0</td>\n",
       "      <td>Round</td>\n",
       "      <td>NaN</td>\n",
       "      <td>Low</td>\n",
       "      <td>0</td>\n",
       "    </tr>\n",
       "    <tr>\n",
       "      <th>41</th>\n",
       "      <td>49.0</td>\n",
       "      <td>Oval</td>\n",
       "      <td>NaN</td>\n",
       "      <td>Low</td>\n",
       "      <td>0</td>\n",
       "    </tr>\n",
       "    <tr>\n",
       "      <th>42</th>\n",
       "      <td>60.0</td>\n",
       "      <td>Lobular</td>\n",
       "      <td>NaN</td>\n",
       "      <td>NaN</td>\n",
       "      <td>0</td>\n",
       "    </tr>\n",
       "    <tr>\n",
       "      <th>43</th>\n",
       "      <td>50.0</td>\n",
       "      <td>Irregular</td>\n",
       "      <td>NaN</td>\n",
       "      <td>Low</td>\n",
       "      <td>1</td>\n",
       "    </tr>\n",
       "    <tr>\n",
       "      <th>44</th>\n",
       "      <td>72.0</td>\n",
       "      <td>Lobular</td>\n",
       "      <td>NaN</td>\n",
       "      <td>Low</td>\n",
       "      <td>0</td>\n",
       "    </tr>\n",
       "    <tr>\n",
       "      <th>45</th>\n",
       "      <td>60.0</td>\n",
       "      <td>Lobular</td>\n",
       "      <td>NaN</td>\n",
       "      <td>Fat-containing</td>\n",
       "      <td>0</td>\n",
       "    </tr>\n",
       "    <tr>\n",
       "      <th>46</th>\n",
       "      <td>76.0</td>\n",
       "      <td>Lobular</td>\n",
       "      <td>NaN</td>\n",
       "      <td>Low</td>\n",
       "      <td>0</td>\n",
       "    </tr>\n",
       "    <tr>\n",
       "      <th>47</th>\n",
       "      <td>35.0</td>\n",
       "      <td>Lobular</td>\n",
       "      <td>NaN</td>\n",
       "      <td>Iso</td>\n",
       "      <td>0</td>\n",
       "    </tr>\n",
       "  </tbody>\n",
       "</table>\n",
       "</div>"
      ],
      "text/plain": [
       "     Age      Shape Margin         Density  Target\n",
       "0   65.0      Round    NaN             Low       0\n",
       "1   70.0       Oval    NaN             Low       0\n",
       "2   42.0      Round    NaN             Low       0\n",
       "3   64.0      Round    NaN             Low       0\n",
       "4   40.0      Round    NaN             NaN       0\n",
       "5   66.0  Irregular    NaN            High       1\n",
       "6   43.0      Round    NaN             NaN       0\n",
       "7   63.0    Lobular    NaN             Low       0\n",
       "8   77.0    Lobular    NaN             NaN       0\n",
       "9   42.0      Round    NaN  Fat-containing       0\n",
       "10  59.0       Oval    NaN             NaN       1\n",
       "11  51.0  Irregular    NaN             NaN       1\n",
       "12  33.0      Round    NaN             NaN       0\n",
       "13  36.0      Round    NaN             NaN       0\n",
       "14  60.0      Round    NaN             Low       0\n",
       "15  59.0       Oval    NaN             NaN       0\n",
       "16  65.0       Oval    NaN             NaN       0\n",
       "17  29.0       Oval    NaN             NaN       0\n",
       "18  60.0       Oval    NaN             NaN       0\n",
       "19  63.0  Irregular    NaN             Low       1\n",
       "20  55.0       Oval    NaN             NaN       1\n",
       "21  51.0      Round    NaN             Low       0\n",
       "22  58.0  Irregular    NaN             Low       1\n",
       "23  67.0      Round    NaN             Low       0\n",
       "24  55.0      Round    NaN            High       0\n",
       "25  79.0      Round    NaN             Low       1\n",
       "26  71.0      Round    NaN             Low       0\n",
       "27  54.0      Round    NaN             NaN       0\n",
       "28  71.0       Oval    NaN             Low       1\n",
       "29  46.0    Lobular    NaN             Low       0\n",
       "30  46.0      Round    NaN             NaN       0\n",
       "31  43.0      Round    NaN             NaN       0\n",
       "32  64.0       Oval    NaN             Low       0\n",
       "33  34.0      Round    NaN  Fat-containing       0\n",
       "34  57.0    Lobular    NaN             Low       0\n",
       "35  40.0       Oval    NaN             Low       0\n",
       "36  41.0      Round    NaN             Low       0\n",
       "37  68.0       Oval    NaN             Low       0\n",
       "38  62.0  Irregular    NaN             Low       1\n",
       "39  65.0      Round    NaN             Low       1\n",
       "40  55.0      Round    NaN             Low       0\n",
       "41  49.0       Oval    NaN             Low       0\n",
       "42  60.0    Lobular    NaN             NaN       0\n",
       "43  50.0  Irregular    NaN             Low       1\n",
       "44  72.0    Lobular    NaN             Low       0\n",
       "45  60.0    Lobular    NaN  Fat-containing       0\n",
       "46  76.0    Lobular    NaN             Low       0\n",
       "47  35.0    Lobular    NaN             Iso       0"
      ]
     },
     "execution_count": 44,
     "metadata": {},
     "output_type": "execute_result"
    }
   ],
   "source": [
    "df_data[df_data[['Margin']].isnull().any(axis=1)].reset_index(drop=True)"
   ]
  },
  {
   "cell_type": "code",
   "execution_count": 45,
   "id": "5fa5b5ce",
   "metadata": {},
   "outputs": [
    {
     "data": {
      "text/plain": [
       "Margin\n",
       "Circumscribed     316\n",
       "ill-defined        89\n",
       "Obscured           43\n",
       "Spiculated         22\n",
       "Microlobulated      9\n",
       "Name: count, dtype: int64"
      ]
     },
     "execution_count": 45,
     "metadata": {},
     "output_type": "execute_result"
    }
   ],
   "source": [
    "Margin_count_00 = df_data[df_data['Target']==0]['Margin'].value_counts()\n",
    "Margin_count_00"
   ]
  },
  {
   "cell_type": "code",
   "execution_count": 46,
   "id": "bb05f005",
   "metadata": {},
   "outputs": [
    {
     "data": {
      "text/plain": [
       "Margin\n",
       "ill-defined       191\n",
       "Spiculated        114\n",
       "Obscured           73\n",
       "Circumscribed      41\n",
       "Microlobulated     15\n",
       "Name: count, dtype: int64"
      ]
     },
     "execution_count": 46,
     "metadata": {},
     "output_type": "execute_result"
    }
   ],
   "source": [
    "Margin_count_01 = df_data[df_data['Target']==1]['Margin'].value_counts()\n",
    "Margin_count_01"
   ]
  },
  {
   "cell_type": "code",
   "execution_count": 47,
   "id": "ebcaddbf",
   "metadata": {},
   "outputs": [
    {
     "data": {
      "text/html": [
       "<div>\n",
       "<style scoped>\n",
       "    .dataframe tbody tr th:only-of-type {\n",
       "        vertical-align: middle;\n",
       "    }\n",
       "\n",
       "    .dataframe tbody tr th {\n",
       "        vertical-align: top;\n",
       "    }\n",
       "\n",
       "    .dataframe thead th {\n",
       "        text-align: right;\n",
       "    }\n",
       "</style>\n",
       "<table border=\"1\" class=\"dataframe\">\n",
       "  <thead>\n",
       "    <tr style=\"text-align: right;\">\n",
       "      <th></th>\n",
       "      <th>Margin</th>\n",
       "      <th>Target</th>\n",
       "    </tr>\n",
       "  </thead>\n",
       "  <tbody>\n",
       "    <tr>\n",
       "      <th>3</th>\n",
       "      <td>Spiculated</td>\n",
       "      <td>0.838235</td>\n",
       "    </tr>\n",
       "    <tr>\n",
       "      <th>4</th>\n",
       "      <td>ill-defined</td>\n",
       "      <td>0.682143</td>\n",
       "    </tr>\n",
       "    <tr>\n",
       "      <th>2</th>\n",
       "      <td>Obscured</td>\n",
       "      <td>0.629310</td>\n",
       "    </tr>\n",
       "    <tr>\n",
       "      <th>1</th>\n",
       "      <td>Microlobulated</td>\n",
       "      <td>0.625000</td>\n",
       "    </tr>\n",
       "    <tr>\n",
       "      <th>0</th>\n",
       "      <td>Circumscribed</td>\n",
       "      <td>0.114846</td>\n",
       "    </tr>\n",
       "  </tbody>\n",
       "</table>\n",
       "</div>"
      ],
      "text/plain": [
       "           Margin    Target\n",
       "3      Spiculated  0.838235\n",
       "4     ill-defined  0.682143\n",
       "2        Obscured  0.629310\n",
       "1  Microlobulated  0.625000\n",
       "0   Circumscribed  0.114846"
      ]
     },
     "execution_count": 47,
     "metadata": {},
     "output_type": "execute_result"
    }
   ],
   "source": [
    "# Hiển thị tỉ lệ Target ở Margin\n",
    "tl_Margin"
   ]
  },
  {
   "cell_type": "code",
   "execution_count": 49,
   "id": "395356fc",
   "metadata": {},
   "outputs": [
    {
     "data": {
      "image/png": "[encoded data removed]",
      "text/plain": [
       "<Figure size 640x480 with 1 Axes>"
      ]
     },
     "metadata": {},
     "output_type": "display_data"
    },
    {
     "data": {
      "image/png": "[encoded data removed]",
      "text/plain": [
       "<Figure size 640x480 with 1 Axes>"
      ]
     },
     "metadata": {},
     "output_type": "display_data"
    }
   ],
   "source": [
    "df_target_01 = df_data[df_data['Target']==1]\n",
    "\n",
    "count_data = df_target_01.groupby(['Shape', 'Margin']).size().unstack(fill_value=0)\n",
    "count_data.plot(kind='bar')\n",
    "plt.xlabel('')\n",
    "plt.xticks(rotation=0)\n",
    "plt.ylabel('Số lượng')\n",
    "plt.title('Biểu đồ số lượng theo Shape và Margin với u ác tính',\n",
    "          fontdict={'fontname':'Arial',\n",
    "         'fontweight':'bold',\n",
    "         'fontsize':12})\n",
    "\n",
    "plt.show()\n",
    "\n",
    "#--------------------------------------------------------------------------------------------------------------------#\n",
    "df_target_00 = df_data[df_data['Target']==0]\n",
    "\n",
    "count_data = df_target_00.groupby(['Shape', 'Margin']).size().unstack(fill_value=0)\n",
    "count_data.plot(kind='bar')\n",
    "plt.xlabel('')\n",
    "plt.xticks(rotation=0)\n",
    "plt.ylabel('Số lượng')\n",
    "plt.title('Biểu đồ số lượng theo Shape và Margin với u lành tính',\n",
    "         fontdict={'fontname':'Arial',\n",
    "         'fontweight':'bold',\n",
    "         'fontsize':12})\n",
    "\n",
    "plt.show()"
   ]
  },
  {
   "cell_type": "markdown",
   "id": "76bafd79",
   "metadata": {},
   "source": [
    "**Thực hiện**  \n",
    "---\n",
    "- **U lành tính (Target = 0)**\n",
    "    - **Nhóm 0.1** : (Irregular) vì ill-defined số lượng cao nhất và tỉ lệ mắc u ác tính đỡ hơn so với các chỉ số còn lại  \n",
    "    => Thay Null thành ill-defined\n",
    "    - **Nhóm 0.2** : (Lobular + Oval + Round) vì Circumscribed số lượng cao nhất và tỉ lệ mắc u ác tính rất thấp  \n",
    "    => Thay Null thành Circumscribed\n",
    "   \n",
    "- **U ác tính (Target = 1)**\n",
    "    - **Nhóm 1.1** : (Irregular) vì Spiculated số lượng cũng khá nhiều so với ill-defined nhưng lại có tỉ lệ mắc u ác tính cao hơn nhiều  \n",
    "    => Thay Null thành Spiculated\n",
    "    - **Nhóm 1.2** : (Lobular) vì Obscured số lượng cũng khá nhiều so với ill-defined nhưng lại có tỉ lệ mắc u ác tính cao hơn nhiều  \n",
    "    => Thay Null thành Obscured\n",
    "    - **Nhóm 1.3** : (Oval) vì ill-defined số lượng nhiều nhất và tỉ lệ mắc u ác tính cao rất nhiều so với Circumscribed\n",
    "    => Thay Null thành ill-defined\n",
    "    - **Nhóm 1.4** : (Round) vì Spiculated mặc dù số lượng thấp hơn nhưng tỉ lệ mắc u ác tính rất cao\n",
    "    => Thay Null thành Spiculated"
   ]
  },
  {
   "cell_type": "code",
   "execution_count": 50,
   "id": "816c61ea",
   "metadata": {},
   "outputs": [],
   "source": [
    "# Nhóm 0.1\n",
    "df_data.loc[(df_data['Target']==0) & (df_data['Shape']=='Irregular'), 'Margin'] = 'ill-defined'\n",
    "# Nhóm 0.2\n",
    "df_data.loc[(df_data['Target']==0) & ((df_data['Shape']=='Lobular') | (df_data['Shape']=='Oval') | (df_data['Shape']=='Round')), 'Margin'] = 'Circumscribed'\n",
    "# Nhóm 1.1\n",
    "df_data.loc[(df_data['Target']==1) & (df_data['Shape']=='Irregular'), 'Margin'] = 'Spiculated'\n",
    "# Nhóm 1.2\n",
    "df_data.loc[(df_data['Target']==1) & (df_data['Shape']=='Lobular'), 'Margin'] = 'Obscured'\n",
    "# Nhóm 1.3\n",
    "df_data.loc[(df_data['Target']==1) & (df_data['Shape']=='Oval'), 'Margin'] = 'ill-defined'\n",
    "# Nhóm 1.4\n",
    "df_data.loc[(df_data['Target']==1) & (df_data['Shape']=='Round'), 'Margin'] = 'Spiculated'"
   ]
  },
  {
   "cell_type": "code",
   "execution_count": 51,
   "id": "d3d579a5",
   "metadata": {},
   "outputs": [
    {
     "name": "stdout",
     "output_type": "stream",
     "text": [
      "<class 'pandas.core.frame.DataFrame'>\n",
      "RangeIndex: 961 entries, 0 to 960\n",
      "Data columns (total 5 columns):\n",
      " #   Column   Non-Null Count  Dtype  \n",
      "---  ------   --------------  -----  \n",
      " 0   Age      961 non-null    float64\n",
      " 1   Shape    961 non-null    object \n",
      " 2   Margin   961 non-null    object \n",
      " 3   Density  885 non-null    object \n",
      " 4   Target   961 non-null    int64  \n",
      "dtypes: float64(1), int64(1), object(3)\n",
      "memory usage: 37.7+ KB\n"
     ]
    }
   ],
   "source": [
    "df_data.info()"
   ]
  },
  {
   "cell_type": "markdown",
   "id": "1d7cb349",
   "metadata": {},
   "source": [
    "### 4. Xử lí thuộc tính 'Density'\n",
    "---"
   ]
  },
  {
   "cell_type": "code",
   "execution_count": 52,
   "id": "a1d3f6ba",
   "metadata": {},
   "outputs": [
    {
     "data": {
      "text/html": [
       "<div>\n",
       "<style scoped>\n",
       "    .dataframe tbody tr th:only-of-type {\n",
       "        vertical-align: middle;\n",
       "    }\n",
       "\n",
       "    .dataframe tbody tr th {\n",
       "        vertical-align: top;\n",
       "    }\n",
       "\n",
       "    .dataframe thead th {\n",
       "        text-align: right;\n",
       "    }\n",
       "</style>\n",
       "<table border=\"1\" class=\"dataframe\">\n",
       "  <thead>\n",
       "    <tr style=\"text-align: right;\">\n",
       "      <th></th>\n",
       "      <th>Age</th>\n",
       "      <th>Shape</th>\n",
       "      <th>Margin</th>\n",
       "      <th>Density</th>\n",
       "      <th>Target</th>\n",
       "    </tr>\n",
       "  </thead>\n",
       "  <tbody>\n",
       "    <tr>\n",
       "      <th>0</th>\n",
       "      <td>43.0</td>\n",
       "      <td>Round</td>\n",
       "      <td>Spiculated</td>\n",
       "      <td>NaN</td>\n",
       "      <td>1</td>\n",
       "    </tr>\n",
       "    <tr>\n",
       "      <th>1</th>\n",
       "      <td>74.0</td>\n",
       "      <td>Round</td>\n",
       "      <td>Spiculated</td>\n",
       "      <td>NaN</td>\n",
       "      <td>1</td>\n",
       "    </tr>\n",
       "    <tr>\n",
       "      <th>2</th>\n",
       "      <td>40.0</td>\n",
       "      <td>Round</td>\n",
       "      <td>Circumscribed</td>\n",
       "      <td>NaN</td>\n",
       "      <td>0</td>\n",
       "    </tr>\n",
       "    <tr>\n",
       "      <th>3</th>\n",
       "      <td>43.0</td>\n",
       "      <td>Round</td>\n",
       "      <td>Circumscribed</td>\n",
       "      <td>NaN</td>\n",
       "      <td>0</td>\n",
       "    </tr>\n",
       "    <tr>\n",
       "      <th>4</th>\n",
       "      <td>66.0</td>\n",
       "      <td>Round</td>\n",
       "      <td>Circumscribed</td>\n",
       "      <td>NaN</td>\n",
       "      <td>0</td>\n",
       "    </tr>\n",
       "    <tr>\n",
       "      <th>...</th>\n",
       "      <td>...</td>\n",
       "      <td>...</td>\n",
       "      <td>...</td>\n",
       "      <td>...</td>\n",
       "      <td>...</td>\n",
       "    </tr>\n",
       "    <tr>\n",
       "      <th>71</th>\n",
       "      <td>46.0</td>\n",
       "      <td>Irregular</td>\n",
       "      <td>Spiculated</td>\n",
       "      <td>NaN</td>\n",
       "      <td>1</td>\n",
       "    </tr>\n",
       "    <tr>\n",
       "      <th>72</th>\n",
       "      <td>57.0</td>\n",
       "      <td>Oval</td>\n",
       "      <td>Circumscribed</td>\n",
       "      <td>NaN</td>\n",
       "      <td>0</td>\n",
       "    </tr>\n",
       "    <tr>\n",
       "      <th>73</th>\n",
       "      <td>27.0</td>\n",
       "      <td>Oval</td>\n",
       "      <td>Circumscribed</td>\n",
       "      <td>NaN</td>\n",
       "      <td>0</td>\n",
       "    </tr>\n",
       "    <tr>\n",
       "      <th>74</th>\n",
       "      <td>57.0</td>\n",
       "      <td>Irregular</td>\n",
       "      <td>Spiculated</td>\n",
       "      <td>NaN</td>\n",
       "      <td>1</td>\n",
       "    </tr>\n",
       "    <tr>\n",
       "      <th>75</th>\n",
       "      <td>48.0</td>\n",
       "      <td>Irregular</td>\n",
       "      <td>Spiculated</td>\n",
       "      <td>NaN</td>\n",
       "      <td>1</td>\n",
       "    </tr>\n",
       "  </tbody>\n",
       "</table>\n",
       "<p>76 rows × 5 columns</p>\n",
       "</div>"
      ],
      "text/plain": [
       "     Age      Shape         Margin Density  Target\n",
       "0   43.0      Round     Spiculated     NaN       1\n",
       "1   74.0      Round     Spiculated     NaN       1\n",
       "2   40.0      Round  Circumscribed     NaN       0\n",
       "3   43.0      Round  Circumscribed     NaN       0\n",
       "4   66.0      Round  Circumscribed     NaN       0\n",
       "..   ...        ...            ...     ...     ...\n",
       "71  46.0  Irregular     Spiculated     NaN       1\n",
       "72  57.0       Oval  Circumscribed     NaN       0\n",
       "73  27.0       Oval  Circumscribed     NaN       0\n",
       "74  57.0  Irregular     Spiculated     NaN       1\n",
       "75  48.0  Irregular     Spiculated     NaN       1\n",
       "\n",
       "[76 rows x 5 columns]"
      ]
     },
     "execution_count": 52,
     "metadata": {},
     "output_type": "execute_result"
    }
   ],
   "source": [
    "df_data[df_data[['Density']].isnull().any(axis=1)].reset_index(drop=True)"
   ]
  },
  {
   "cell_type": "markdown",
   "id": "da65ca4a",
   "metadata": {},
   "source": [
    "**Thực hiện**\n",
    "- Vì chỉ số 'Low' chiếm tới 90% nên ta sẽ thấy hết các Null thành 'Low'"
   ]
  },
  {
   "cell_type": "code",
   "execution_count": 53,
   "id": "4c693625",
   "metadata": {},
   "outputs": [
    {
     "name": "stdout",
     "output_type": "stream",
     "text": [
      "<class 'pandas.core.frame.DataFrame'>\n",
      "RangeIndex: 961 entries, 0 to 960\n",
      "Data columns (total 5 columns):\n",
      " #   Column   Non-Null Count  Dtype  \n",
      "---  ------   --------------  -----  \n",
      " 0   Age      961 non-null    float64\n",
      " 1   Shape    961 non-null    object \n",
      " 2   Margin   961 non-null    object \n",
      " 3   Density  961 non-null    object \n",
      " 4   Target   961 non-null    int64  \n",
      "dtypes: float64(1), int64(1), object(3)\n",
      "memory usage: 37.7+ KB\n"
     ]
    }
   ],
   "source": [
    "df_data.loc[df_data['Density'].isnull(), 'Density'] = 'Low'\n",
    "df_data.info()"
   ]
  },
  {
   "cell_type": "markdown",
   "id": "bcfb9325",
   "metadata": {},
   "source": [
    "# RỜI RẠC HOÁ DỮ LIỆU"
   ]
  },
  {
   "cell_type": "markdown",
   "id": "16125228",
   "metadata": {},
   "source": [
    "## 1. Chuyển Age\n",
    "---"
   ]
  },
  {
   "cell_type": "code",
   "execution_count": 54,
   "id": "2cf624f2",
   "metadata": {},
   "outputs": [
    {
     "data": {
      "text/html": [
       "<div>\n",
       "<style scoped>\n",
       "    .dataframe tbody tr th:only-of-type {\n",
       "        vertical-align: middle;\n",
       "    }\n",
       "\n",
       "    .dataframe tbody tr th {\n",
       "        vertical-align: top;\n",
       "    }\n",
       "\n",
       "    .dataframe thead th {\n",
       "        text-align: right;\n",
       "    }\n",
       "</style>\n",
       "<table border=\"1\" class=\"dataframe\">\n",
       "  <thead>\n",
       "    <tr style=\"text-align: right;\">\n",
       "      <th></th>\n",
       "      <th>AgeBand</th>\n",
       "      <th>Target</th>\n",
       "    </tr>\n",
       "  </thead>\n",
       "  <tbody>\n",
       "    <tr>\n",
       "      <th>0</th>\n",
       "      <td>(17.922, 31.0]</td>\n",
       "      <td>0.036364</td>\n",
       "    </tr>\n",
       "    <tr>\n",
       "      <th>1</th>\n",
       "      <td>(31.0, 44.0]</td>\n",
       "      <td>0.255952</td>\n",
       "    </tr>\n",
       "    <tr>\n",
       "      <th>2</th>\n",
       "      <td>(44.0, 57.0]</td>\n",
       "      <td>0.360424</td>\n",
       "    </tr>\n",
       "    <tr>\n",
       "      <th>3</th>\n",
       "      <td>(57.0, 70.0]</td>\n",
       "      <td>0.585209</td>\n",
       "    </tr>\n",
       "    <tr>\n",
       "      <th>4</th>\n",
       "      <td>(70.0, 83.0]</td>\n",
       "      <td>0.790323</td>\n",
       "    </tr>\n",
       "    <tr>\n",
       "      <th>5</th>\n",
       "      <td>(83.0, 96.0]</td>\n",
       "      <td>0.900000</td>\n",
       "    </tr>\n",
       "  </tbody>\n",
       "</table>\n",
       "</div>"
      ],
      "text/plain": [
       "          AgeBand    Target\n",
       "0  (17.922, 31.0]  0.036364\n",
       "1    (31.0, 44.0]  0.255952\n",
       "2    (44.0, 57.0]  0.360424\n",
       "3    (57.0, 70.0]  0.585209\n",
       "4    (70.0, 83.0]  0.790323\n",
       "5    (83.0, 96.0]  0.900000"
      ]
     },
     "execution_count": 54,
     "metadata": {},
     "output_type": "execute_result"
    }
   ],
   "source": [
    "df_temp = df_data.copy()\n",
    "df_temp['AgeBand'] = pd.cut(df_temp['Age'], 6)\n",
    "\n",
    "df_temp[['AgeBand', 'Target']].groupby(['AgeBand'], as_index=False).mean().sort_values(by='AgeBand', ascending=True)"
   ]
  },
  {
   "cell_type": "markdown",
   "id": "e6d8f326",
   "metadata": {},
   "source": [
    "**Ta thấy rằng, tỷ lệ mắc u vú ác tính có quan hệ theo độ tuổi, người già có tỷ lệ bị u ác tính cao hơn. Thực hiện chia dữ liệu độ tuổi theo từng đoạn**\n",
    "\n",
    "* Từ 18 --> 31 tuổi:  có tỷ lệ u ác tính thấp nhất (3.6%)\n",
    "* Từ 32 --> 44 tuổi:  có tỷ lệ u ác tính cao thứ năm (25.6%)\n",
    "* Từ 45 --> 57 tuổi:  có tỷ lệ u ác tính cao thứ tư (36%)\n",
    "* Từ 58 --> 70 tuổi:  có tỷ lệ u ác tính cao thứ ba (58.5%)\n",
    "* Từ 71 --> 83 tuổi:  có tỷ lệ u ác tính cao thứ nhì (79%)\n",
    "* Trên 84 tuổi     :  có tỷ lệ u ác tính cao thứ nhất (90%)"
   ]
  },
  {
   "cell_type": "markdown",
   "id": "2d6a2f09",
   "metadata": {},
   "source": [
    "**Thay thế tuổi tuyệt đối của hành khách bằng khoảng mà tuổi thuộc vào:**\n",
    "* Từ 18 --> 31 tuổi:   --> Age = 0\n",
    "* Từ 32 --> 44 tuổi:   --> Age = 1\n",
    "* Từ 45 --> 57 tuổi:   --> Age = 2\n",
    "* Từ 58 --> 70 tuổi:   --> Age = 3\n",
    "* Từ 71 --> 83 tuổi:   --> Age = 4\n",
    "* Trên 84 tuổi     :   --> Age = 5"
   ]
  },
  {
   "cell_type": "code",
   "execution_count": 55,
   "id": "712c8f40",
   "metadata": {},
   "outputs": [],
   "source": [
    "df_data.loc[(df_data['Age'] > 17) & (df_data['Age'] <= 31), 'Age'] = 0\n",
    "df_data.loc[(df_data['Age'] > 31) & (df_data['Age'] <= 44), 'Age'] = 1\n",
    "df_data.loc[(df_data['Age'] > 44) & (df_data['Age'] <= 57), 'Age'] = 2\n",
    "df_data.loc[(df_data['Age'] > 57) & (df_data['Age'] <= 70), 'Age'] = 3\n",
    "df_data.loc[(df_data['Age'] > 70) & (df_data['Age'] <= 83), 'Age'] = 4\n",
    "df_data.loc[ df_data['Age'] > 83, 'Age'] = 5"
   ]
  },
  {
   "cell_type": "code",
   "execution_count": 56,
   "id": "9ddd1a70",
   "metadata": {},
   "outputs": [
    {
     "data": {
      "text/html": [
       "<div>\n",
       "<style scoped>\n",
       "    .dataframe tbody tr th:only-of-type {\n",
       "        vertical-align: middle;\n",
       "    }\n",
       "\n",
       "    .dataframe tbody tr th {\n",
       "        vertical-align: top;\n",
       "    }\n",
       "\n",
       "    .dataframe thead th {\n",
       "        text-align: right;\n",
       "    }\n",
       "</style>\n",
       "<table border=\"1\" class=\"dataframe\">\n",
       "  <thead>\n",
       "    <tr style=\"text-align: right;\">\n",
       "      <th></th>\n",
       "      <th>Age</th>\n",
       "      <th>Shape</th>\n",
       "      <th>Margin</th>\n",
       "      <th>Density</th>\n",
       "      <th>Target</th>\n",
       "    </tr>\n",
       "  </thead>\n",
       "  <tbody>\n",
       "    <tr>\n",
       "      <th>0</th>\n",
       "      <td>3.0</td>\n",
       "      <td>Lobular</td>\n",
       "      <td>Obscured</td>\n",
       "      <td>Low</td>\n",
       "      <td>1</td>\n",
       "    </tr>\n",
       "    <tr>\n",
       "      <th>1</th>\n",
       "      <td>1.0</td>\n",
       "      <td>Round</td>\n",
       "      <td>Spiculated</td>\n",
       "      <td>Low</td>\n",
       "      <td>1</td>\n",
       "    </tr>\n",
       "    <tr>\n",
       "      <th>2</th>\n",
       "      <td>3.0</td>\n",
       "      <td>Irregular</td>\n",
       "      <td>Spiculated</td>\n",
       "      <td>Low</td>\n",
       "      <td>1</td>\n",
       "    </tr>\n",
       "    <tr>\n",
       "      <th>3</th>\n",
       "      <td>0.0</td>\n",
       "      <td>Round</td>\n",
       "      <td>Circumscribed</td>\n",
       "      <td>Low</td>\n",
       "      <td>0</td>\n",
       "    </tr>\n",
       "    <tr>\n",
       "      <th>4</th>\n",
       "      <td>4.0</td>\n",
       "      <td>Round</td>\n",
       "      <td>Spiculated</td>\n",
       "      <td>Low</td>\n",
       "      <td>1</td>\n",
       "    </tr>\n",
       "  </tbody>\n",
       "</table>\n",
       "</div>"
      ],
      "text/plain": [
       "   Age      Shape         Margin Density  Target\n",
       "0  3.0    Lobular       Obscured     Low       1\n",
       "1  1.0      Round     Spiculated     Low       1\n",
       "2  3.0  Irregular     Spiculated     Low       1\n",
       "3  0.0      Round  Circumscribed     Low       0\n",
       "4  4.0      Round     Spiculated     Low       1"
      ]
     },
     "execution_count": 56,
     "metadata": {},
     "output_type": "execute_result"
    }
   ],
   "source": [
    "df_data.head()"
   ]
  },
  {
   "cell_type": "code",
   "execution_count": 57,
   "id": "427653ed",
   "metadata": {},
   "outputs": [
    {
     "data": {
      "text/html": [
       "<div>\n",
       "<style scoped>\n",
       "    .dataframe tbody tr th:only-of-type {\n",
       "        vertical-align: middle;\n",
       "    }\n",
       "\n",
       "    .dataframe tbody tr th {\n",
       "        vertical-align: top;\n",
       "    }\n",
       "\n",
       "    .dataframe thead th {\n",
       "        text-align: right;\n",
       "    }\n",
       "</style>\n",
       "<table border=\"1\" class=\"dataframe\">\n",
       "  <thead>\n",
       "    <tr style=\"text-align: right;\">\n",
       "      <th></th>\n",
       "      <th>Age</th>\n",
       "      <th>Shape</th>\n",
       "      <th>Margin</th>\n",
       "      <th>Density</th>\n",
       "      <th>Target</th>\n",
       "    </tr>\n",
       "  </thead>\n",
       "  <tbody>\n",
       "    <tr>\n",
       "      <th>0</th>\n",
       "      <td>3</td>\n",
       "      <td>Lobular</td>\n",
       "      <td>Obscured</td>\n",
       "      <td>Low</td>\n",
       "      <td>1</td>\n",
       "    </tr>\n",
       "    <tr>\n",
       "      <th>1</th>\n",
       "      <td>1</td>\n",
       "      <td>Round</td>\n",
       "      <td>Spiculated</td>\n",
       "      <td>Low</td>\n",
       "      <td>1</td>\n",
       "    </tr>\n",
       "    <tr>\n",
       "      <th>2</th>\n",
       "      <td>3</td>\n",
       "      <td>Irregular</td>\n",
       "      <td>Spiculated</td>\n",
       "      <td>Low</td>\n",
       "      <td>1</td>\n",
       "    </tr>\n",
       "    <tr>\n",
       "      <th>3</th>\n",
       "      <td>0</td>\n",
       "      <td>Round</td>\n",
       "      <td>Circumscribed</td>\n",
       "      <td>Low</td>\n",
       "      <td>0</td>\n",
       "    </tr>\n",
       "    <tr>\n",
       "      <th>4</th>\n",
       "      <td>4</td>\n",
       "      <td>Round</td>\n",
       "      <td>Spiculated</td>\n",
       "      <td>Low</td>\n",
       "      <td>1</td>\n",
       "    </tr>\n",
       "  </tbody>\n",
       "</table>\n",
       "</div>"
      ],
      "text/plain": [
       "   Age      Shape         Margin Density  Target\n",
       "0    3    Lobular       Obscured     Low       1\n",
       "1    1      Round     Spiculated     Low       1\n",
       "2    3  Irregular     Spiculated     Low       1\n",
       "3    0      Round  Circumscribed     Low       0\n",
       "4    4      Round     Spiculated     Low       1"
      ]
     },
     "execution_count": 57,
     "metadata": {},
     "output_type": "execute_result"
    }
   ],
   "source": [
    "#Ép Age sang kiểu dữ liệu số nguyên\n",
    "df_data['Age'] = df_data['Age'].astype(int)\n",
    "df_data.head()"
   ]
  },
  {
   "cell_type": "markdown",
   "id": "b12a33b6",
   "metadata": {},
   "source": [
    "## 2. Chuyển Shape, Margin, Density\n",
    "---"
   ]
  },
  {
   "cell_type": "code",
   "execution_count": 58,
   "id": "c282557d",
   "metadata": {},
   "outputs": [
    {
     "data": {
      "text/html": [
       "<div>\n",
       "<style scoped>\n",
       "    .dataframe tbody tr th:only-of-type {\n",
       "        vertical-align: middle;\n",
       "    }\n",
       "\n",
       "    .dataframe tbody tr th {\n",
       "        vertical-align: top;\n",
       "    }\n",
       "\n",
       "    .dataframe thead th {\n",
       "        text-align: right;\n",
       "    }\n",
       "</style>\n",
       "<table border=\"1\" class=\"dataframe\">\n",
       "  <thead>\n",
       "    <tr style=\"text-align: right;\">\n",
       "      <th></th>\n",
       "      <th>Age</th>\n",
       "      <th>Shape</th>\n",
       "      <th>Margin</th>\n",
       "      <th>Density</th>\n",
       "      <th>Target</th>\n",
       "    </tr>\n",
       "  </thead>\n",
       "  <tbody>\n",
       "    <tr>\n",
       "      <th>0</th>\n",
       "      <td>3</td>\n",
       "      <td>3</td>\n",
       "      <td>Obscured</td>\n",
       "      <td>Low</td>\n",
       "      <td>1</td>\n",
       "    </tr>\n",
       "    <tr>\n",
       "      <th>1</th>\n",
       "      <td>1</td>\n",
       "      <td>1</td>\n",
       "      <td>Spiculated</td>\n",
       "      <td>Low</td>\n",
       "      <td>1</td>\n",
       "    </tr>\n",
       "    <tr>\n",
       "      <th>2</th>\n",
       "      <td>3</td>\n",
       "      <td>0</td>\n",
       "      <td>Spiculated</td>\n",
       "      <td>Low</td>\n",
       "      <td>1</td>\n",
       "    </tr>\n",
       "    <tr>\n",
       "      <th>3</th>\n",
       "      <td>0</td>\n",
       "      <td>1</td>\n",
       "      <td>Circumscribed</td>\n",
       "      <td>Low</td>\n",
       "      <td>0</td>\n",
       "    </tr>\n",
       "    <tr>\n",
       "      <th>4</th>\n",
       "      <td>4</td>\n",
       "      <td>1</td>\n",
       "      <td>Spiculated</td>\n",
       "      <td>Low</td>\n",
       "      <td>1</td>\n",
       "    </tr>\n",
       "  </tbody>\n",
       "</table>\n",
       "</div>"
      ],
      "text/plain": [
       "   Age  Shape         Margin Density  Target\n",
       "0    3      3       Obscured     Low       1\n",
       "1    1      1     Spiculated     Low       1\n",
       "2    3      0     Spiculated     Low       1\n",
       "3    0      1  Circumscribed     Low       0\n",
       "4    4      1     Spiculated     Low       1"
      ]
     },
     "execution_count": 58,
     "metadata": {},
     "output_type": "execute_result"
    }
   ],
   "source": [
    "#Chuyển đổi thuộc tính Shape về dạng số nguyên (int)\n",
    "df_data['Shape'] = df_data['Shape'].map( {'Irregular': 0, 'Round': 1,\n",
    "                                          'Oval': 2, 'Lobular': 3} ).astype(int)\n",
    "df_data.head()"
   ]
  },
  {
   "cell_type": "code",
   "execution_count": 59,
   "id": "12ad0a88",
   "metadata": {},
   "outputs": [
    {
     "data": {
      "text/html": [
       "<div>\n",
       "<style scoped>\n",
       "    .dataframe tbody tr th:only-of-type {\n",
       "        vertical-align: middle;\n",
       "    }\n",
       "\n",
       "    .dataframe tbody tr th {\n",
       "        vertical-align: top;\n",
       "    }\n",
       "\n",
       "    .dataframe thead th {\n",
       "        text-align: right;\n",
       "    }\n",
       "</style>\n",
       "<table border=\"1\" class=\"dataframe\">\n",
       "  <thead>\n",
       "    <tr style=\"text-align: right;\">\n",
       "      <th></th>\n",
       "      <th>Age</th>\n",
       "      <th>Shape</th>\n",
       "      <th>Margin</th>\n",
       "      <th>Density</th>\n",
       "      <th>Target</th>\n",
       "    </tr>\n",
       "  </thead>\n",
       "  <tbody>\n",
       "    <tr>\n",
       "      <th>0</th>\n",
       "      <td>3</td>\n",
       "      <td>3</td>\n",
       "      <td>3</td>\n",
       "      <td>Low</td>\n",
       "      <td>1</td>\n",
       "    </tr>\n",
       "    <tr>\n",
       "      <th>1</th>\n",
       "      <td>1</td>\n",
       "      <td>1</td>\n",
       "      <td>2</td>\n",
       "      <td>Low</td>\n",
       "      <td>1</td>\n",
       "    </tr>\n",
       "    <tr>\n",
       "      <th>2</th>\n",
       "      <td>3</td>\n",
       "      <td>0</td>\n",
       "      <td>2</td>\n",
       "      <td>Low</td>\n",
       "      <td>1</td>\n",
       "    </tr>\n",
       "    <tr>\n",
       "      <th>3</th>\n",
       "      <td>0</td>\n",
       "      <td>1</td>\n",
       "      <td>0</td>\n",
       "      <td>Low</td>\n",
       "      <td>0</td>\n",
       "    </tr>\n",
       "    <tr>\n",
       "      <th>4</th>\n",
       "      <td>4</td>\n",
       "      <td>1</td>\n",
       "      <td>2</td>\n",
       "      <td>Low</td>\n",
       "      <td>1</td>\n",
       "    </tr>\n",
       "  </tbody>\n",
       "</table>\n",
       "</div>"
      ],
      "text/plain": [
       "   Age  Shape  Margin Density  Target\n",
       "0    3      3       3     Low       1\n",
       "1    1      1       2     Low       1\n",
       "2    3      0       2     Low       1\n",
       "3    0      1       0     Low       0\n",
       "4    4      1       2     Low       1"
      ]
     },
     "execution_count": 59,
     "metadata": {},
     "output_type": "execute_result"
    }
   ],
   "source": [
    "#Chuyển đổi thuộc tính Shape về dạng số nguyên (int)\n",
    "df_data['Margin'] = df_data['Margin'].map( {'Circumscribed': 0, 'ill-defined': 1,\n",
    "                                            'Spiculated': 2, 'Obscured': 3,\n",
    "                                            'Microlobulated': 4} ).astype(int)\n",
    "df_data.head()"
   ]
  },
  {
   "cell_type": "code",
   "execution_count": 60,
   "id": "e027cef1",
   "metadata": {},
   "outputs": [
    {
     "data": {
      "text/html": [
       "<div>\n",
       "<style scoped>\n",
       "    .dataframe tbody tr th:only-of-type {\n",
       "        vertical-align: middle;\n",
       "    }\n",
       "\n",
       "    .dataframe tbody tr th {\n",
       "        vertical-align: top;\n",
       "    }\n",
       "\n",
       "    .dataframe thead th {\n",
       "        text-align: right;\n",
       "    }\n",
       "</style>\n",
       "<table border=\"1\" class=\"dataframe\">\n",
       "  <thead>\n",
       "    <tr style=\"text-align: right;\">\n",
       "      <th></th>\n",
       "      <th>Age</th>\n",
       "      <th>Shape</th>\n",
       "      <th>Margin</th>\n",
       "      <th>Density</th>\n",
       "      <th>Target</th>\n",
       "    </tr>\n",
       "  </thead>\n",
       "  <tbody>\n",
       "    <tr>\n",
       "      <th>0</th>\n",
       "      <td>3</td>\n",
       "      <td>3</td>\n",
       "      <td>3</td>\n",
       "      <td>0</td>\n",
       "      <td>1</td>\n",
       "    </tr>\n",
       "    <tr>\n",
       "      <th>1</th>\n",
       "      <td>1</td>\n",
       "      <td>1</td>\n",
       "      <td>2</td>\n",
       "      <td>0</td>\n",
       "      <td>1</td>\n",
       "    </tr>\n",
       "    <tr>\n",
       "      <th>2</th>\n",
       "      <td>3</td>\n",
       "      <td>0</td>\n",
       "      <td>2</td>\n",
       "      <td>0</td>\n",
       "      <td>1</td>\n",
       "    </tr>\n",
       "    <tr>\n",
       "      <th>3</th>\n",
       "      <td>0</td>\n",
       "      <td>1</td>\n",
       "      <td>0</td>\n",
       "      <td>0</td>\n",
       "      <td>0</td>\n",
       "    </tr>\n",
       "    <tr>\n",
       "      <th>4</th>\n",
       "      <td>4</td>\n",
       "      <td>1</td>\n",
       "      <td>2</td>\n",
       "      <td>0</td>\n",
       "      <td>1</td>\n",
       "    </tr>\n",
       "  </tbody>\n",
       "</table>\n",
       "</div>"
      ],
      "text/plain": [
       "   Age  Shape  Margin  Density  Target\n",
       "0    3      3       3        0       1\n",
       "1    1      1       2        0       1\n",
       "2    3      0       2        0       1\n",
       "3    0      1       0        0       0\n",
       "4    4      1       2        0       1"
      ]
     },
     "execution_count": 60,
     "metadata": {},
     "output_type": "execute_result"
    }
   ],
   "source": [
    "#Chuyển đổi thuộc tính Shape về dạng số nguyên (int)\n",
    "df_data['Density'] = df_data['Density'].map( {'Low': 0, 'Iso': 1,\n",
    "                                              'High': 2, 'Fat-containing': 3} ).astype(int)\n",
    "df_data.head()"
   ]
  },
  {
   "cell_type": "markdown",
   "id": "296873ca",
   "metadata": {},
   "source": [
    "# LƯU DỮ LIỆU ĐÃ XỬ LÝ\n",
    "---"
   ]
  },
  {
   "cell_type": "code",
   "execution_count": 61,
   "id": "480e60a1",
   "metadata": {},
   "outputs": [],
   "source": [
    "#Lưu ra file .CSV, Excel...\n",
    "df_data.to_excel('Data/Data_U_Vu.xlsx', index=None)"
   ]
  },
  {
   "cell_type": "markdown",
   "id": "24138bae",
   "metadata": {},
   "source": [
    "## THỰC HÀNH MÔ HÌNH\n",
    "---"
   ]
  },
  {
   "cell_type": "code",
   "execution_count": 61,
   "id": "28c0a2c7",
   "metadata": {},
   "outputs": [],
   "source": [
    "import pandas as pd\n",
    "import numpy as np\n",
    "import matplotlib.pyplot as plt\n",
    "import seaborn as sns\n",
    "%matplotlib inline\n",
    "import seaborn as sns\n",
    "colors = sns.color_palette(\"pastel\")\n",
    "\n",
    "import warnings\n",
    "warnings.filterwarnings('ignore')"
   ]
  },
  {
   "cell_type": "code",
   "execution_count": 62,
   "id": "33424cad",
   "metadata": {},
   "outputs": [
    {
     "data": {
      "text/html": [
       "<div>\n",
       "<style scoped>\n",
       "    .dataframe tbody tr th:only-of-type {\n",
       "        vertical-align: middle;\n",
       "    }\n",
       "\n",
       "    .dataframe tbody tr th {\n",
       "        vertical-align: top;\n",
       "    }\n",
       "\n",
       "    .dataframe thead th {\n",
       "        text-align: right;\n",
       "    }\n",
       "</style>\n",
       "<table border=\"1\" class=\"dataframe\">\n",
       "  <thead>\n",
       "    <tr style=\"text-align: right;\">\n",
       "      <th></th>\n",
       "      <th>Age</th>\n",
       "      <th>Shape</th>\n",
       "      <th>Margin</th>\n",
       "      <th>Density</th>\n",
       "      <th>Target</th>\n",
       "    </tr>\n",
       "  </thead>\n",
       "  <tbody>\n",
       "    <tr>\n",
       "      <th>0</th>\n",
       "      <td>3</td>\n",
       "      <td>3</td>\n",
       "      <td>3</td>\n",
       "      <td>0</td>\n",
       "      <td>1</td>\n",
       "    </tr>\n",
       "    <tr>\n",
       "      <th>1</th>\n",
       "      <td>1</td>\n",
       "      <td>1</td>\n",
       "      <td>2</td>\n",
       "      <td>0</td>\n",
       "      <td>1</td>\n",
       "    </tr>\n",
       "    <tr>\n",
       "      <th>2</th>\n",
       "      <td>3</td>\n",
       "      <td>0</td>\n",
       "      <td>2</td>\n",
       "      <td>0</td>\n",
       "      <td>1</td>\n",
       "    </tr>\n",
       "    <tr>\n",
       "      <th>3</th>\n",
       "      <td>0</td>\n",
       "      <td>1</td>\n",
       "      <td>0</td>\n",
       "      <td>0</td>\n",
       "      <td>0</td>\n",
       "    </tr>\n",
       "    <tr>\n",
       "      <th>4</th>\n",
       "      <td>4</td>\n",
       "      <td>1</td>\n",
       "      <td>2</td>\n",
       "      <td>0</td>\n",
       "      <td>1</td>\n",
       "    </tr>\n",
       "  </tbody>\n",
       "</table>\n",
       "</div>"
      ],
      "text/plain": [
       "   Age  Shape  Margin  Density  Target\n",
       "0    3      3       3        0       1\n",
       "1    1      1       2        0       1\n",
       "2    3      0       2        0       1\n",
       "3    0      1       0        0       0\n",
       "4    4      1       2        0       1"
      ]
     },
     "execution_count": 62,
     "metadata": {},
     "output_type": "execute_result"
    }
   ],
   "source": [
    "df_uvu = pd.read_excel('Data/Data_U_Vu.xlsx')\n",
    "df_uvu.head()"
   ]
  },
  {
   "cell_type": "markdown",
   "id": "4a7eae95",
   "metadata": {},
   "source": [
    "## Mô tả các thuộc tính:\n",
    "---\n",
    "1. Nhãn - Thuộc tính phụ thuộc (y): \n",
    "    * Target: 0 - U lành tính, 1 - U ác tính\n",
    "2. Thuộc tính độc lập (X):\n",
    "    * Age: Độ tuổi\n",
    "        * 0: Từ 18 - 31 tuổi\n",
    "        * 1: Từ 32 - 44 tuổi\n",
    "        * 2: Từ 45 - 57 tuổi\n",
    "        * 3: Từ 58 - 70 tuổi\n",
    "        * 4: Từ 71 - 83 tuổi\n",
    "        * 5: Trên 84 tuổi\n",
    "    * Shape: Hình dạng ( 0 - Irregular, 1 - Round, 2 - Oval, 3 - Lobular)\n",
    "    * Margin: Đường biên (0 - Circumscribed, 1 - ill-defined, 2 - Spiculated, 3 - Obscured, 4 - Microlobulated)\n",
    "    * Density: Mật độ ( 0 - Low, 1 - Iso, 2 - High, 3 - Fat-containing)"
   ]
  },
  {
   "cell_type": "markdown",
   "id": "32409b14",
   "metadata": {},
   "source": [
    "## 1. Kiểm tra cân bằng dữ liệu\n",
    "---"
   ]
  },
  {
   "cell_type": "code",
   "execution_count": 63,
   "id": "7255b20d",
   "metadata": {},
   "outputs": [
    {
     "name": "stdout",
     "output_type": "stream",
     "text": [
      "Target\n",
      "0    516\n",
      "1    445\n",
      "Name: count, dtype: int64\n"
     ]
    },
    {
     "data": {
      "image/png": "[encoded data removed]",
      "text/plain": [
       "<Figure size 1200x500 with 2 Axes>"
      ]
     },
     "metadata": {},
     "output_type": "display_data"
    }
   ],
   "source": [
    "#Kiểm tra cân bằng dữ liệu\n",
    "x = df_uvu['Target'].value_counts()\n",
    "print(x)\n",
    "\n",
    "#Trực quan hóa dữ liệu:\n",
    "label=[' 0 - U lành tính', '1 - U ác tính']\n",
    "\n",
    "fig = plt.figure(figsize=(12,5))\n",
    "plt.subplot(1,2,1)\n",
    "plt.bar(label,x.values)\n",
    "plt.grid(ls='--')\n",
    "\n",
    "plt.subplot(1,2,2)\n",
    "plt.title('TỶ LỆ % SỐ LƯỢNG MẪU THEO MỖI LỚP')\n",
    "plt.pie(x, labels=label,autopct='%.2f%%')\n",
    "plt.grid(True)\n",
    "plt.show()"
   ]
  },
  {
   "cell_type": "markdown",
   "id": "a783bd8c",
   "metadata": {},
   "source": [
    "## 2. Phân tách đầu vào (X) và nhãn (y)\n",
    "---"
   ]
  },
  {
   "cell_type": "code",
   "execution_count": 64,
   "id": "55b0347e",
   "metadata": {},
   "outputs": [
    {
     "data": {
      "text/plain": [
       "Index(['Age', 'Shape', 'Margin', 'Density', 'Target'], dtype='object')"
      ]
     },
     "execution_count": 64,
     "metadata": {},
     "output_type": "execute_result"
    }
   ],
   "source": [
    "df_uvu.columns"
   ]
  },
  {
   "cell_type": "code",
   "execution_count": 65,
   "id": "b1e2817f",
   "metadata": {},
   "outputs": [
    {
     "data": {
      "text/html": [
       "<div>\n",
       "<style scoped>\n",
       "    .dataframe tbody tr th:only-of-type {\n",
       "        vertical-align: middle;\n",
       "    }\n",
       "\n",
       "    .dataframe tbody tr th {\n",
       "        vertical-align: top;\n",
       "    }\n",
       "\n",
       "    .dataframe thead th {\n",
       "        text-align: right;\n",
       "    }\n",
       "</style>\n",
       "<table border=\"1\" class=\"dataframe\">\n",
       "  <thead>\n",
       "    <tr style=\"text-align: right;\">\n",
       "      <th></th>\n",
       "      <th>Age</th>\n",
       "      <th>Shape</th>\n",
       "      <th>Margin</th>\n",
       "      <th>Density</th>\n",
       "    </tr>\n",
       "  </thead>\n",
       "  <tbody>\n",
       "    <tr>\n",
       "      <th>0</th>\n",
       "      <td>3</td>\n",
       "      <td>3</td>\n",
       "      <td>3</td>\n",
       "      <td>0</td>\n",
       "    </tr>\n",
       "    <tr>\n",
       "      <th>1</th>\n",
       "      <td>1</td>\n",
       "      <td>1</td>\n",
       "      <td>2</td>\n",
       "      <td>0</td>\n",
       "    </tr>\n",
       "    <tr>\n",
       "      <th>2</th>\n",
       "      <td>3</td>\n",
       "      <td>0</td>\n",
       "      <td>2</td>\n",
       "      <td>0</td>\n",
       "    </tr>\n",
       "    <tr>\n",
       "      <th>3</th>\n",
       "      <td>0</td>\n",
       "      <td>1</td>\n",
       "      <td>0</td>\n",
       "      <td>0</td>\n",
       "    </tr>\n",
       "    <tr>\n",
       "      <th>4</th>\n",
       "      <td>4</td>\n",
       "      <td>1</td>\n",
       "      <td>2</td>\n",
       "      <td>0</td>\n",
       "    </tr>\n",
       "    <tr>\n",
       "      <th>...</th>\n",
       "      <td>...</td>\n",
       "      <td>...</td>\n",
       "      <td>...</td>\n",
       "      <td>...</td>\n",
       "    </tr>\n",
       "    <tr>\n",
       "      <th>956</th>\n",
       "      <td>2</td>\n",
       "      <td>2</td>\n",
       "      <td>0</td>\n",
       "      <td>0</td>\n",
       "    </tr>\n",
       "    <tr>\n",
       "      <th>957</th>\n",
       "      <td>2</td>\n",
       "      <td>0</td>\n",
       "      <td>2</td>\n",
       "      <td>0</td>\n",
       "    </tr>\n",
       "    <tr>\n",
       "      <th>958</th>\n",
       "      <td>3</td>\n",
       "      <td>0</td>\n",
       "      <td>1</td>\n",
       "      <td>0</td>\n",
       "    </tr>\n",
       "    <tr>\n",
       "      <th>959</th>\n",
       "      <td>3</td>\n",
       "      <td>0</td>\n",
       "      <td>2</td>\n",
       "      <td>0</td>\n",
       "    </tr>\n",
       "    <tr>\n",
       "      <th>960</th>\n",
       "      <td>3</td>\n",
       "      <td>3</td>\n",
       "      <td>0</td>\n",
       "      <td>0</td>\n",
       "    </tr>\n",
       "  </tbody>\n",
       "</table>\n",
       "<p>961 rows × 4 columns</p>\n",
       "</div>"
      ],
      "text/plain": [
       "     Age  Shape  Margin  Density\n",
       "0      3      3       3        0\n",
       "1      1      1       2        0\n",
       "2      3      0       2        0\n",
       "3      0      1       0        0\n",
       "4      4      1       2        0\n",
       "..   ...    ...     ...      ...\n",
       "956    2      2       0        0\n",
       "957    2      0       2        0\n",
       "958    3      0       1        0\n",
       "959    3      0       2        0\n",
       "960    3      3       0        0\n",
       "\n",
       "[961 rows x 4 columns]"
      ]
     },
     "execution_count": 65,
     "metadata": {},
     "output_type": "execute_result"
    }
   ],
   "source": [
    "#Tách dữ liệu biến độc lập\n",
    "X_uvu = df_uvu.loc[:,['Age', 'Shape', 'Margin', 'Density']]\n",
    "X_uvu"
   ]
  },
  {
   "cell_type": "code",
   "execution_count": 66,
   "id": "259a0598",
   "metadata": {},
   "outputs": [
    {
     "data": {
      "text/html": [
       "<div>\n",
       "<style scoped>\n",
       "    .dataframe tbody tr th:only-of-type {\n",
       "        vertical-align: middle;\n",
       "    }\n",
       "\n",
       "    .dataframe tbody tr th {\n",
       "        vertical-align: top;\n",
       "    }\n",
       "\n",
       "    .dataframe thead th {\n",
       "        text-align: right;\n",
       "    }\n",
       "</style>\n",
       "<table border=\"1\" class=\"dataframe\">\n",
       "  <thead>\n",
       "    <tr style=\"text-align: right;\">\n",
       "      <th></th>\n",
       "      <th>Target</th>\n",
       "    </tr>\n",
       "  </thead>\n",
       "  <tbody>\n",
       "    <tr>\n",
       "      <th>0</th>\n",
       "      <td>1</td>\n",
       "    </tr>\n",
       "    <tr>\n",
       "      <th>1</th>\n",
       "      <td>1</td>\n",
       "    </tr>\n",
       "    <tr>\n",
       "      <th>2</th>\n",
       "      <td>1</td>\n",
       "    </tr>\n",
       "    <tr>\n",
       "      <th>3</th>\n",
       "      <td>0</td>\n",
       "    </tr>\n",
       "    <tr>\n",
       "      <th>4</th>\n",
       "      <td>1</td>\n",
       "    </tr>\n",
       "    <tr>\n",
       "      <th>...</th>\n",
       "      <td>...</td>\n",
       "    </tr>\n",
       "    <tr>\n",
       "      <th>956</th>\n",
       "      <td>0</td>\n",
       "    </tr>\n",
       "    <tr>\n",
       "      <th>957</th>\n",
       "      <td>1</td>\n",
       "    </tr>\n",
       "    <tr>\n",
       "      <th>958</th>\n",
       "      <td>0</td>\n",
       "    </tr>\n",
       "    <tr>\n",
       "      <th>959</th>\n",
       "      <td>1</td>\n",
       "    </tr>\n",
       "    <tr>\n",
       "      <th>960</th>\n",
       "      <td>0</td>\n",
       "    </tr>\n",
       "  </tbody>\n",
       "</table>\n",
       "<p>961 rows × 1 columns</p>\n",
       "</div>"
      ],
      "text/plain": [
       "     Target\n",
       "0         1\n",
       "1         1\n",
       "2         1\n",
       "3         0\n",
       "4         1\n",
       "..      ...\n",
       "956       0\n",
       "957       1\n",
       "958       0\n",
       "959       1\n",
       "960       0\n",
       "\n",
       "[961 rows x 1 columns]"
      ]
     },
     "execution_count": 66,
     "metadata": {},
     "output_type": "execute_result"
    }
   ],
   "source": [
    "#Tách dữ liệu biến phụ thuộc\n",
    "y_uvu = df_uvu.loc[:,['Target']]\n",
    "y_uvu"
   ]
  },
  {
   "cell_type": "markdown",
   "id": "5dd759e6",
   "metadata": {},
   "source": [
    "## 3. Tách tập dữ liệu ra tập Training - Test: \n",
    "---\n",
    "* Training: dùng để huấn luyện mô hình (75%)\n",
    "* Test: dùng để kiểm thử mô hình (25%)"
   ]
  },
  {
   "cell_type": "code",
   "execution_count": 67,
   "id": "42c8df30",
   "metadata": {},
   "outputs": [
    {
     "name": "stdout",
     "output_type": "stream",
     "text": [
      "1. Kích thước tập Training: 720\n",
      "2. Kích thước tập Test    : 241\n"
     ]
    },
    {
     "data": {
      "text/html": [
       "<div>\n",
       "<style scoped>\n",
       "    .dataframe tbody tr th:only-of-type {\n",
       "        vertical-align: middle;\n",
       "    }\n",
       "\n",
       "    .dataframe tbody tr th {\n",
       "        vertical-align: top;\n",
       "    }\n",
       "\n",
       "    .dataframe thead th {\n",
       "        text-align: right;\n",
       "    }\n",
       "</style>\n",
       "<table border=\"1\" class=\"dataframe\">\n",
       "  <thead>\n",
       "    <tr style=\"text-align: right;\">\n",
       "      <th></th>\n",
       "      <th>Age</th>\n",
       "      <th>Shape</th>\n",
       "      <th>Margin</th>\n",
       "      <th>Density</th>\n",
       "    </tr>\n",
       "  </thead>\n",
       "  <tbody>\n",
       "    <tr>\n",
       "      <th>824</th>\n",
       "      <td>1</td>\n",
       "      <td>0</td>\n",
       "      <td>2</td>\n",
       "      <td>3</td>\n",
       "    </tr>\n",
       "    <tr>\n",
       "      <th>544</th>\n",
       "      <td>3</td>\n",
       "      <td>0</td>\n",
       "      <td>2</td>\n",
       "      <td>0</td>\n",
       "    </tr>\n",
       "    <tr>\n",
       "      <th>139</th>\n",
       "      <td>3</td>\n",
       "      <td>3</td>\n",
       "      <td>3</td>\n",
       "      <td>0</td>\n",
       "    </tr>\n",
       "    <tr>\n",
       "      <th>248</th>\n",
       "      <td>1</td>\n",
       "      <td>2</td>\n",
       "      <td>0</td>\n",
       "      <td>0</td>\n",
       "    </tr>\n",
       "    <tr>\n",
       "      <th>714</th>\n",
       "      <td>2</td>\n",
       "      <td>0</td>\n",
       "      <td>1</td>\n",
       "      <td>0</td>\n",
       "    </tr>\n",
       "    <tr>\n",
       "      <th>...</th>\n",
       "      <td>...</td>\n",
       "      <td>...</td>\n",
       "      <td>...</td>\n",
       "      <td>...</td>\n",
       "    </tr>\n",
       "    <tr>\n",
       "      <th>702</th>\n",
       "      <td>2</td>\n",
       "      <td>1</td>\n",
       "      <td>0</td>\n",
       "      <td>0</td>\n",
       "    </tr>\n",
       "    <tr>\n",
       "      <th>837</th>\n",
       "      <td>3</td>\n",
       "      <td>0</td>\n",
       "      <td>2</td>\n",
       "      <td>1</td>\n",
       "    </tr>\n",
       "    <tr>\n",
       "      <th>120</th>\n",
       "      <td>2</td>\n",
       "      <td>0</td>\n",
       "      <td>2</td>\n",
       "      <td>0</td>\n",
       "    </tr>\n",
       "    <tr>\n",
       "      <th>275</th>\n",
       "      <td>4</td>\n",
       "      <td>3</td>\n",
       "      <td>0</td>\n",
       "      <td>0</td>\n",
       "    </tr>\n",
       "    <tr>\n",
       "      <th>298</th>\n",
       "      <td>4</td>\n",
       "      <td>1</td>\n",
       "      <td>0</td>\n",
       "      <td>0</td>\n",
       "    </tr>\n",
       "  </tbody>\n",
       "</table>\n",
       "<p>720 rows × 4 columns</p>\n",
       "</div>"
      ],
      "text/plain": [
       "     Age  Shape  Margin  Density\n",
       "824    1      0       2        3\n",
       "544    3      0       2        0\n",
       "139    3      3       3        0\n",
       "248    1      2       0        0\n",
       "714    2      0       1        0\n",
       "..   ...    ...     ...      ...\n",
       "702    2      1       0        0\n",
       "837    3      0       2        1\n",
       "120    2      0       2        0\n",
       "275    4      3       0        0\n",
       "298    4      1       0        0\n",
       "\n",
       "[720 rows x 4 columns]"
      ]
     },
     "execution_count": 67,
     "metadata": {},
     "output_type": "execute_result"
    }
   ],
   "source": [
    "#Gọi hàm tách dữ liệu trong thư viện sklearn:\n",
    "from sklearn.model_selection import train_test_split\n",
    "X_train, X_test, y_train, y_test = train_test_split(X_uvu,\n",
    "                                                   y_uvu,\n",
    "                                                    train_size=0.75,\n",
    "                                                   shuffle=True,\n",
    "                                                   random_state=18)\n",
    "\n",
    "print(\"1. Kích thước tập Training: %d\" %len(y_train))\n",
    "print(\"2. Kích thước tập Test    : %d\" %len(y_test))\n",
    "X_train"
   ]
  },
  {
   "cell_type": "markdown",
   "id": "f91e413b",
   "metadata": {},
   "source": [
    "## 4. Xây dựng mô hình KNN cho bài toán phân lớp\n",
    "---\n",
    "Khai báo model KNN sử dụng thư viện sklearn"
   ]
  },
  {
   "cell_type": "code",
   "execution_count": 68,
   "id": "cc60d51b",
   "metadata": {},
   "outputs": [
    {
     "data": {
      "text/plain": [
       "{'algorithm': 'auto',\n",
       " 'leaf_size': 30,\n",
       " 'metric': 'minkowski',\n",
       " 'metric_params': None,\n",
       " 'n_jobs': None,\n",
       " 'n_neighbors': 5,\n",
       " 'p': 2,\n",
       " 'weights': 'uniform'}"
      ]
     },
     "execution_count": 68,
     "metadata": {},
     "output_type": "execute_result"
    }
   ],
   "source": [
    "#Gọi thư viện sklearn với thuật toán phân lớp KNN\n",
    "from sklearn.neighbors import KNeighborsClassifier\n",
    "\n",
    "#Khai báo model KNN sử dụng các tham số mặc định\n",
    "KNN_uvu = KNeighborsClassifier(n_neighbors=5)\n",
    "\n",
    "#Hiển thị danh sách tham số:\n",
    "KNN_uvu.get_params()"
   ]
  },
  {
   "cell_type": "markdown",
   "id": "252c40ea",
   "metadata": {},
   "source": [
    "## 5. Huấn luyện mô hình\n",
    "---"
   ]
  },
  {
   "cell_type": "code",
   "execution_count": 69,
   "id": "45b8079e",
   "metadata": {},
   "outputs": [
    {
     "data": {
      "text/html": [
       "<style>#sk-container-id-1 {color: black;}#sk-container-id-1 pre{padding: 0;}#sk-container-id-1 div.sk-toggleable {background-color: white;}#sk-container-id-1 label.sk-toggleable__label {cursor: pointer;display: block;width: 100%;margin-bottom: 0;padding: 0.3em;box-sizing: border-box;text-align: center;}#sk-container-id-1 label.sk-toggleable__label-arrow:before {content: \"▸\";float: left;margin-right: 0.25em;color: #696969;}#sk-container-id-1 label.sk-toggleable__label-arrow:hover:before {color: black;}#sk-container-id-1 div.sk-estimator:hover label.sk-toggleable__label-arrow:before {color: black;}#sk-container-id-1 div.sk-toggleable__content {max-height: 0;max-width: 0;overflow: hidden;text-align: left;background-color: #f0f8ff;}#sk-container-id-1 div.sk-toggleable__content pre {margin: 0.2em;color: black;border-radius: 0.25em;background-color: #f0f8ff;}#sk-container-id-1 input.sk-toggleable__control:checked~div.sk-toggleable__content {max-height: 200px;max-width: 100%;overflow: auto;}#sk-container-id-1 input.sk-toggleable__control:checked~label.sk-toggleable__label-arrow:before {content: \"▾\";}#sk-container-id-1 div.sk-estimator input.sk-toggleable__control:checked~label.sk-toggleable__label {background-color: #d4ebff;}#sk-container-id-1 div.sk-label input.sk-toggleable__control:checked~label.sk-toggleable__label {background-color: #d4ebff;}#sk-container-id-1 input.sk-hidden--visually {border: 0;clip: rect(1px 1px 1px 1px);clip: rect(1px, 1px, 1px, 1px);height: 1px;margin: -1px;overflow: hidden;padding: 0;position: absolute;width: 1px;}#sk-container-id-1 div.sk-estimator {font-family: monospace;background-color: #f0f8ff;border: 1px dotted black;border-radius: 0.25em;box-sizing: border-box;margin-bottom: 0.5em;}#sk-container-id-1 div.sk-estimator:hover {background-color: #d4ebff;}#sk-container-id-1 div.sk-parallel-item::after {content: \"\";width: 100%;border-bottom: 1px solid gray;flex-grow: 1;}#sk-container-id-1 div.sk-label:hover label.sk-toggleable__label {background-color: #d4ebff;}#sk-container-id-1 div.sk-serial::before {content: \"\";position: absolute;border-left: 1px solid gray;box-sizing: border-box;top: 0;bottom: 0;left: 50%;z-index: 0;}#sk-container-id-1 div.sk-serial {display: flex;flex-direction: column;align-items: center;background-color: white;padding-right: 0.2em;padding-left: 0.2em;position: relative;}#sk-container-id-1 div.sk-item {position: relative;z-index: 1;}#sk-container-id-1 div.sk-parallel {display: flex;align-items: stretch;justify-content: center;background-color: white;position: relative;}#sk-container-id-1 div.sk-item::before, #sk-container-id-1 div.sk-parallel-item::before {content: \"\";position: absolute;border-left: 1px solid gray;box-sizing: border-box;top: 0;bottom: 0;left: 50%;z-index: -1;}#sk-container-id-1 div.sk-parallel-item {display: flex;flex-direction: column;z-index: 1;position: relative;background-color: white;}#sk-container-id-1 div.sk-parallel-item:first-child::after {align-self: flex-end;width: 50%;}#sk-container-id-1 div.sk-parallel-item:last-child::after {align-self: flex-start;width: 50%;}#sk-container-id-1 div.sk-parallel-item:only-child::after {width: 0;}#sk-container-id-1 div.sk-dashed-wrapped {border: 1px dashed gray;margin: 0 0.4em 0.5em 0.4em;box-sizing: border-box;padding-bottom: 0.4em;background-color: white;}#sk-container-id-1 div.sk-label label {font-family: monospace;font-weight: bold;display: inline-block;line-height: 1.2em;}#sk-container-id-1 div.sk-label-container {text-align: center;}#sk-container-id-1 div.sk-container {/* jupyter's `normalize.less` sets `[hidden] { display: none; }` but bootstrap.min.css set `[hidden] { display: none !important; }` so we also need the `!important` here to be able to override the default hidden behavior on the sphinx rendered scikit-learn.org. See: https://github.com/scikit-learn/scikit-learn/issues/21755 */display: inline-block !important;position: relative;}#sk-container-id-1 div.sk-text-repr-fallback {display: none;}</style><div id=\"sk-container-id-1\" class=\"sk-top-container\"><div class=\"sk-text-repr-fallback\"><pre>KNeighborsClassifier()</pre><b>In a Jupyter environment, please rerun this cell to show the HTML representation or trust the notebook. <br />On GitHub, the HTML representation is unable to render, please try loading this page with nbviewer.org.</b></div><div class=\"sk-container\" hidden><div class=\"sk-item\"><div class=\"sk-estimator sk-toggleable\"><input class=\"sk-toggleable__control sk-hidden--visually\" id=\"sk-estimator-id-1\" type=\"checkbox\" checked><label for=\"sk-estimator-id-1\" class=\"sk-toggleable__label sk-toggleable__label-arrow\">KNeighborsClassifier</label><div class=\"sk-toggleable__content\"><pre>KNeighborsClassifier()</pre></div></div></div></div></div>"
      ],
      "text/plain": [
       "KNeighborsClassifier()"
      ]
     },
     "execution_count": 69,
     "metadata": {},
     "output_type": "execute_result"
    }
   ],
   "source": [
    "#Thực hiện huấn luyện với dữ liệu tập train\n",
    "KNN_uvu.fit(X_train,y_train)"
   ]
  },
  {
   "cell_type": "code",
   "execution_count": 70,
   "id": "7396e213",
   "metadata": {},
   "outputs": [
    {
     "name": "stdout",
     "output_type": "stream",
     "text": [
      "Độ chính xác trên tập huấn luyện: 99.58\n"
     ]
    }
   ],
   "source": [
    "acc_train = KNN_uvu.score(X_train,y_train)\n",
    "print('Độ chính xác trên tập huấn luyện:', round(acc_train*100,2))"
   ]
  },
  {
   "cell_type": "markdown",
   "id": "0052e07c",
   "metadata": {},
   "source": [
    "## 6. Đánh giá độ chính xác của mô hình trên tập Test\n",
    "---"
   ]
  },
  {
   "cell_type": "code",
   "execution_count": 71,
   "id": "05cd173f",
   "metadata": {},
   "outputs": [
    {
     "name": "stdout",
     "output_type": "stream",
     "text": [
      "[1 1 0 0 0 1 1 0 1 0 1 0 1 0 0 0 1 0 0 0 0 1 1 0 0 1 1 1 1 1 1 0 1 1 0 0 0\n",
      " 0 1 0 0 0 0 1 1 0 1 1 0 1 0 0 0 1 1 1 0 1 1 1 1 1 1 0 1 1 0 1 0 0 1 0 1 1\n",
      " 1 0 1 1 1 0 0 1 0 0 0 1 0 0 0 1 1 0 1 0 1 0 1 1 0 0 0 0 0 1 1 0 0 0 0 1 0\n",
      " 0 1 0 1 0 1 0 1 0 1 1 0 1 0 1 1 1 0 0 0 1 1 1 0 0 0 1 1 1 0 0 1 0 1 1 0 1\n",
      " 1 1 1 1 0 0 1 1 1 1 0 0 0 0 0 0 0 1 0 0 1 0 0 0 0 0 1 1 0 0 1 0 1 0 1 0 0\n",
      " 0 0 1 1 0 0 1 0 1 1 1 0 1 0 1 1 1 0 0 1 1 0 1 0 1 0 1 0 1 1 1 0 0 1 0 1 1\n",
      " 0 1 1 1 0 0 0 1 1 0 0 0 0 1 1 0 0 0 0]\n"
     ]
    }
   ],
   "source": [
    "#Sử dụng mô hình huấn luyện dự đoán trên tập dữ liệu Test\n",
    "y_pred = KNN_uvu.predict(X_test)\n",
    "print(y_pred)"
   ]
  },
  {
   "cell_type": "code",
   "execution_count": 72,
   "id": "baad447b",
   "metadata": {},
   "outputs": [
    {
     "name": "stdout",
     "output_type": "stream",
     "text": [
      "Tổng số mẫu dự đoán đúng: 238  / 241\n",
      "Tổng số mẫu dự đoán sai: 3  / 241\n"
     ]
    }
   ],
   "source": [
    "#Sử dụng module accuracy_score trong thư viện sklearn để đánh giá độ chính xác:\n",
    "from sklearn.metrics import accuracy_score\n",
    "\n",
    "#1. Đếm tổng số mẫu dự đoán đúng trên tập Test\n",
    "acc1 = accuracy_score(y_test, y_pred,normalize=False)\n",
    "print('Tổng số mẫu dự đoán đúng:', acc1, ' /', len(y_test))\n",
    "print('Tổng số mẫu dự đoán sai:', len(y_test) - acc1, ' /', len(y_test))"
   ]
  },
  {
   "cell_type": "code",
   "execution_count": 73,
   "id": "0c9245c9",
   "metadata": {},
   "outputs": [
    {
     "name": "stdout",
     "output_type": "stream",
     "text": [
      "Độ chính xác của mô hình (k=5 default): 0.9875518672199171\n",
      "Độ chính xác theo %: 98.76\n"
     ]
    }
   ],
   "source": [
    "#2.Độ chính xác theo tỷ lệ % số mẫu dự đoán đúng/tổng số mẫu của tập test (Accuracy)\n",
    "acc2 = accuracy_score(y_test, y_pred, normalize=True)\n",
    "print('Độ chính xác của mô hình (k=5 default):', acc2)\n",
    "print('Độ chính xác theo %:', round(acc2*100,2))"
   ]
  },
  {
   "cell_type": "code",
   "execution_count": 74,
   "id": "fb019d55",
   "metadata": {},
   "outputs": [
    {
     "data": {
      "image/png": "[encoded data removed]",
      "text/plain": [
       "<Figure size 640x480 with 2 Axes>"
      ]
     },
     "metadata": {},
     "output_type": "display_data"
    }
   ],
   "source": [
    "#3.Sử dụng ma trận confussion matrix kiểm tra kết quả:\n",
    "from sklearn.metrics import confusion_matrix, ConfusionMatrixDisplay\n",
    "cnf_matrix_titanic = confusion_matrix(y_test,y_pred)\n",
    "\n",
    "ConfusionMatrixDisplay.from_predictions(y_test, y_pred)\n",
    "plt.title('Confusion matrix Test Set - Titanic:')\n",
    "plt.show()"
   ]
  },
  {
   "cell_type": "markdown",
   "id": "652e569c",
   "metadata": {},
   "source": [
    "### Bot Test 2\n",
    "---"
   ]
  },
  {
   "cell_type": "code",
   "execution_count": 75,
   "id": "37f1015a",
   "metadata": {},
   "outputs": [
    {
     "data": {
      "text/plain": [
       "{'algorithm': 'brute',\n",
       " 'leaf_size': 30,\n",
       " 'metric': 'minkowski',\n",
       " 'metric_params': None,\n",
       " 'n_jobs': None,\n",
       " 'n_neighbors': 18,\n",
       " 'p': 1,\n",
       " 'weights': 'distance'}"
      ]
     },
     "execution_count": 75,
     "metadata": {},
     "output_type": "execute_result"
    }
   ],
   "source": [
    "KNN_uvu2 = KNeighborsClassifier(n_neighbors=18,\n",
    "                                   weights='distance',\n",
    "                                    algorithm='brute',\n",
    "                                   p=1)\n",
    "\n",
    "#Các tham số mới của Model:\n",
    "KNN_uvu2.get_params()"
   ]
  },
  {
   "cell_type": "code",
   "execution_count": 76,
   "id": "7914739d",
   "metadata": {},
   "outputs": [
    {
     "data": {
      "text/html": [
       "<style>#sk-container-id-2 {color: black;}#sk-container-id-2 pre{padding: 0;}#sk-container-id-2 div.sk-toggleable {background-color: white;}#sk-container-id-2 label.sk-toggleable__label {cursor: pointer;display: block;width: 100%;margin-bottom: 0;padding: 0.3em;box-sizing: border-box;text-align: center;}#sk-container-id-2 label.sk-toggleable__label-arrow:before {content: \"▸\";float: left;margin-right: 0.25em;color: #696969;}#sk-container-id-2 label.sk-toggleable__label-arrow:hover:before {color: black;}#sk-container-id-2 div.sk-estimator:hover label.sk-toggleable__label-arrow:before {color: black;}#sk-container-id-2 div.sk-toggleable__content {max-height: 0;max-width: 0;overflow: hidden;text-align: left;background-color: #f0f8ff;}#sk-container-id-2 div.sk-toggleable__content pre {margin: 0.2em;color: black;border-radius: 0.25em;background-color: #f0f8ff;}#sk-container-id-2 input.sk-toggleable__control:checked~div.sk-toggleable__content {max-height: 200px;max-width: 100%;overflow: auto;}#sk-container-id-2 input.sk-toggleable__control:checked~label.sk-toggleable__label-arrow:before {content: \"▾\";}#sk-container-id-2 div.sk-estimator input.sk-toggleable__control:checked~label.sk-toggleable__label {background-color: #d4ebff;}#sk-container-id-2 div.sk-label input.sk-toggleable__control:checked~label.sk-toggleable__label {background-color: #d4ebff;}#sk-container-id-2 input.sk-hidden--visually {border: 0;clip: rect(1px 1px 1px 1px);clip: rect(1px, 1px, 1px, 1px);height: 1px;margin: -1px;overflow: hidden;padding: 0;position: absolute;width: 1px;}#sk-container-id-2 div.sk-estimator {font-family: monospace;background-color: #f0f8ff;border: 1px dotted black;border-radius: 0.25em;box-sizing: border-box;margin-bottom: 0.5em;}#sk-container-id-2 div.sk-estimator:hover {background-color: #d4ebff;}#sk-container-id-2 div.sk-parallel-item::after {content: \"\";width: 100%;border-bottom: 1px solid gray;flex-grow: 1;}#sk-container-id-2 div.sk-label:hover label.sk-toggleable__label {background-color: #d4ebff;}#sk-container-id-2 div.sk-serial::before {content: \"\";position: absolute;border-left: 1px solid gray;box-sizing: border-box;top: 0;bottom: 0;left: 50%;z-index: 0;}#sk-container-id-2 div.sk-serial {display: flex;flex-direction: column;align-items: center;background-color: white;padding-right: 0.2em;padding-left: 0.2em;position: relative;}#sk-container-id-2 div.sk-item {position: relative;z-index: 1;}#sk-container-id-2 div.sk-parallel {display: flex;align-items: stretch;justify-content: center;background-color: white;position: relative;}#sk-container-id-2 div.sk-item::before, #sk-container-id-2 div.sk-parallel-item::before {content: \"\";position: absolute;border-left: 1px solid gray;box-sizing: border-box;top: 0;bottom: 0;left: 50%;z-index: -1;}#sk-container-id-2 div.sk-parallel-item {display: flex;flex-direction: column;z-index: 1;position: relative;background-color: white;}#sk-container-id-2 div.sk-parallel-item:first-child::after {align-self: flex-end;width: 50%;}#sk-container-id-2 div.sk-parallel-item:last-child::after {align-self: flex-start;width: 50%;}#sk-container-id-2 div.sk-parallel-item:only-child::after {width: 0;}#sk-container-id-2 div.sk-dashed-wrapped {border: 1px dashed gray;margin: 0 0.4em 0.5em 0.4em;box-sizing: border-box;padding-bottom: 0.4em;background-color: white;}#sk-container-id-2 div.sk-label label {font-family: monospace;font-weight: bold;display: inline-block;line-height: 1.2em;}#sk-container-id-2 div.sk-label-container {text-align: center;}#sk-container-id-2 div.sk-container {/* jupyter's `normalize.less` sets `[hidden] { display: none; }` but bootstrap.min.css set `[hidden] { display: none !important; }` so we also need the `!important` here to be able to override the default hidden behavior on the sphinx rendered scikit-learn.org. See: https://github.com/scikit-learn/scikit-learn/issues/21755 */display: inline-block !important;position: relative;}#sk-container-id-2 div.sk-text-repr-fallback {display: none;}</style><div id=\"sk-container-id-2\" class=\"sk-top-container\"><div class=\"sk-text-repr-fallback\"><pre>KNeighborsClassifier(algorithm=&#x27;brute&#x27;, n_neighbors=18, p=1, weights=&#x27;distance&#x27;)</pre><b>In a Jupyter environment, please rerun this cell to show the HTML representation or trust the notebook. <br />On GitHub, the HTML representation is unable to render, please try loading this page with nbviewer.org.</b></div><div class=\"sk-container\" hidden><div class=\"sk-item\"><div class=\"sk-estimator sk-toggleable\"><input class=\"sk-toggleable__control sk-hidden--visually\" id=\"sk-estimator-id-2\" type=\"checkbox\" checked><label for=\"sk-estimator-id-2\" class=\"sk-toggleable__label sk-toggleable__label-arrow\">KNeighborsClassifier</label><div class=\"sk-toggleable__content\"><pre>KNeighborsClassifier(algorithm=&#x27;brute&#x27;, n_neighbors=18, p=1, weights=&#x27;distance&#x27;)</pre></div></div></div></div></div>"
      ],
      "text/plain": [
       "KNeighborsClassifier(algorithm='brute', n_neighbors=18, p=1, weights='distance')"
      ]
     },
     "execution_count": 76,
     "metadata": {},
     "output_type": "execute_result"
    }
   ],
   "source": [
    "#Thực hiện huấn luyện với dữ liệu tập train\n",
    "KNN_uvu2.fit(X_train,y_train)"
   ]
  },
  {
   "cell_type": "code",
   "execution_count": 77,
   "id": "221cb415",
   "metadata": {},
   "outputs": [
    {
     "name": "stdout",
     "output_type": "stream",
     "text": [
      "Độ chính xác trên tập huấn luyện: 100.0\n"
     ]
    }
   ],
   "source": [
    "#Độ chính xác của Model trên tập Huấn luyện\n",
    "acc_train = KNN_uvu2.score(X_train,y_train)\n",
    "print('Độ chính xác trên tập huấn luyện:', round(acc_train*100,2))"
   ]
  },
  {
   "cell_type": "code",
   "execution_count": 78,
   "id": "81e86d23",
   "metadata": {},
   "outputs": [],
   "source": [
    "#Sử dụng mô hình huấn luyện dự đoán trên tập dữ liệu Test\n",
    "y_pred2 = KNN_uvu2.predict(X_test)"
   ]
  },
  {
   "cell_type": "code",
   "execution_count": 79,
   "id": "7acef6cd",
   "metadata": {},
   "outputs": [
    {
     "name": "stdout",
     "output_type": "stream",
     "text": [
      "Tổng số mẫu dự đoán đúng: 241  / 241\n"
     ]
    }
   ],
   "source": [
    "#1.Đếm số mẫu dự đoán đúng:\n",
    "acc21 = accuracy_score(y_test, y_pred2, normalize=False)\n",
    "print('Tổng số mẫu dự đoán đúng:', acc21, ' /', len(y_test))"
   ]
  },
  {
   "cell_type": "code",
   "execution_count": 80,
   "id": "1316926a",
   "metadata": {},
   "outputs": [
    {
     "name": "stdout",
     "output_type": "stream",
     "text": [
      "Độ chính xác của mô hình(k=11, weights=distance): 1.0\n",
      "Độ chính xác theo %: 100.0\n"
     ]
    }
   ],
   "source": [
    "#2.Tính độ chính xác %:\n",
    "acc22 = accuracy_score(y_test, y_pred2)\n",
    "print('Độ chính xác của mô hình(k=11, weights=distance):', acc22)\n",
    "print('Độ chính xác theo %:', round(acc22*100,2))"
   ]
  },
  {
   "cell_type": "code",
   "execution_count": 81,
   "id": "a9eefc7e",
   "metadata": {},
   "outputs": [
    {
     "name": "stdout",
     "output_type": "stream",
     "text": [
      "Confusion matrix - Titanic:\n",
      "[[127   0]\n",
      " [  0 114]]\n"
     ]
    },
    {
     "data": {
      "image/png": "[encoded data removed]",
      "text/plain": [
       "<Figure size 640x480 with 2 Axes>"
      ]
     },
     "metadata": {},
     "output_type": "display_data"
    }
   ],
   "source": [
    "#3.Sử dụng ma trận confussion matrix kiểm tra kết quả:\n",
    "from sklearn.metrics import confusion_matrix, ConfusionMatrixDisplay\n",
    "cnf_matrix_titanic = confusion_matrix(y_test,y_pred2)\n",
    "print('Confusion matrix - Titanic:')\n",
    "print(cnf_matrix_titanic)\n",
    "ConfusionMatrixDisplay.from_predictions(y_test, y_pred2)\n",
    "plt.show()"
   ]
  },
  {
   "cell_type": "code",
   "execution_count": null,
   "id": "8cf31548",
   "metadata": {},
   "outputs": [],
   "source": []
  },
  {
   "cell_type": "code",
   "execution_count": null,
   "id": "da750f9a",
   "metadata": {},
   "outputs": [],
   "source": []
  }
 ],
 "metadata": {
  "kernelspec": {
   "display_name": "Python 3 (ipykernel)",
   "language": "python",
   "name": "python3"
  },
  "language_info": {
   "codemirror_mode": {
    "name": "ipython",
    "version": 3
   },
   "file_extension": ".py",
   "mimetype": "text/x-python",
   "name": "python",
   "nbconvert_exporter": "python",
   "pygments_lexer": "ipython3",
   "version": "3.11.5"
  }
 },
 "nbformat": 4,
 "nbformat_minor": 5
}
